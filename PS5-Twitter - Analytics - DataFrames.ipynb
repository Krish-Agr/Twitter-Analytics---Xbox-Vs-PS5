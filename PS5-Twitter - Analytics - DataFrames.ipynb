{
 "cells": [
  {
   "cell_type": "markdown",
   "metadata": {},
   "source": [
    "<img width=\"200\" style=\"float:left\" \n",
    "     src=\"https://upload.wikimedia.org/wikipedia/commons/f/f3/Apache_Spark_logo.svg\" />"
   ]
  },
  {
   "cell_type": "markdown",
   "metadata": {},
   "source": [
    "# Sections\n",
    "* [Description](#0)\n",
    "* [1. Setup](#1)\n",
    "  * [1.1 Start Hadoop](#1.1)  \n",
    "  * [1.2 Search for Spark Installation](#1.2)\n",
    "  * [1.3 Create SparkSession](#1.3)\n",
    "* [2. Lab](#2)\n",
    "  * [2.1 Check Twitter Files](#2.1)\n",
    "  * [2.2 Create the DataFrame](#2.3)\n",
    "  * [2.3 Perform Analytics](#2.3)\n",
    "* [3. TearDown](#3)\n",
    "  * [3.1 Stop Hadoop](#3.1)"
   ]
  },
  {
   "cell_type": "markdown",
   "metadata": {},
   "source": [
    "<a id='0'></a>\n",
    "## Description\n",
    "<p>\n",
    "<div>The goals for this lab are:</div>\n",
    "<ul>    \n",
    "    <li>Get familiar with Spark DataFrames API</li>\n",
    "    <li>Apply some transformations using Spark DataFrames API</li>\n",
    "</ul>    \n",
    "</p>"
   ]
  },
  {
   "cell_type": "markdown",
   "metadata": {},
   "source": [
    "<a id='1'></a>\n",
    "## 1. Setup\n",
    "\n",
    "Since we are going to process data stored from HDFS let's start the service"
   ]
  },
  {
   "cell_type": "markdown",
   "metadata": {},
   "source": [
    "<a id='1.1'></a>\n",
    "### 1.1 Start Hadoop\n",
    "\n",
    "Start Hadoop\n",
    "\n",
    "Open a terminal and execute\n",
    "```sh\n",
    "hadoop-start.sh\n",
    "```"
   ]
  },
  {
   "cell_type": "markdown",
   "metadata": {},
   "source": [
    "<a id='1.2'></a>\n",
    "### 1.2 Search for Spark Installation \n",
    "This step is required just because we are working in the course environment."
   ]
  },
  {
   "cell_type": "code",
   "execution_count": 1,
   "metadata": {},
   "outputs": [],
   "source": [
    "import findspark\n",
    "findspark.init()"
   ]
  },
  {
   "cell_type": "markdown",
   "metadata": {},
   "source": [
    "I'm changing pandas max column width property to improve data displaying"
   ]
  },
  {
   "cell_type": "code",
   "execution_count": 2,
   "metadata": {},
   "outputs": [],
   "source": [
    "import pandas as pd\n",
    "pd.set_option('display.max_colwidth', None)"
   ]
  },
  {
   "cell_type": "markdown",
   "metadata": {},
   "source": [
    "<a id='1.3'></a>\n",
    "### 1.3 Create SparkSession\n",
    "\n",
    "By setting this environment variable we can include extra libraries in our Spark cluster"
   ]
  },
  {
   "cell_type": "code",
   "execution_count": 3,
   "metadata": {},
   "outputs": [],
   "source": [
    "import os\n",
    "os.environ['PYSPARK_SUBMIT_ARGS'] = '--jars /opt/hive3/lib/hive-hcatalog-core-3.1.2.jar pyspark-shell'"
   ]
  },
  {
   "cell_type": "markdown",
   "metadata": {},
   "source": [
    "The first thing always is to create the SparkSession"
   ]
  },
  {
   "cell_type": "code",
   "execution_count": 4,
   "metadata": {},
   "outputs": [
    {
     "name": "stderr",
     "output_type": "stream",
     "text": [
      "WARNING: An illegal reflective access operation has occurred\n",
      "WARNING: Illegal reflective access by org.apache.spark.unsafe.Platform (file:/opt/spark3/jars/spark-unsafe_2.12-3.0.3.jar) to constructor java.nio.DirectByteBuffer(long,int)\n",
      "WARNING: Please consider reporting this to the maintainers of org.apache.spark.unsafe.Platform\n",
      "WARNING: Use --illegal-access=warn to enable warnings of further illegal reflective access operations\n",
      "WARNING: All illegal access operations will be denied in a future release\n",
      "Setting default log level to \"WARN\".\n",
      "To adjust logging level use sc.setLogLevel(newLevel). For SparkR, use setLogLevel(newLevel).\n"
     ]
    }
   ],
   "source": [
    "from pyspark.sql.session import SparkSession\n",
    "\n",
    "spark = (SparkSession.builder\n",
    "    .appName(\"Twitter - Analytics - DataFrames\")\n",
    "    .config(\"spark.sql.warehouse.dir\",\"hdfs://localhost:9000/warehouse\")\n",
    "    .config(\"spark.sql.legacy.timeParserPolicy\",\"LEGACY\")\n",
    "    .enableHiveSupport()\n",
    "    .getOrCreate())"
   ]
  },
  {
   "cell_type": "markdown",
   "metadata": {},
   "source": [
    "<a id='2'></a>\n",
    "## 2. Lab"
   ]
  },
  {
   "cell_type": "markdown",
   "metadata": {},
   "source": [
    "<a id='2.1'></a>\n",
    "### 2.1 Check Twitter Files\n",
    "\n",
    "In order to complete this lab you need to previosly complete **'Twitter - RAW to STD - DataFrames'**.\n",
    "\n",
    "Check you have the data ready in HDFS\n",
    "\n",
    "http://localhost:50070/explorer.html#/datalake/std/twitter/bitcoin/"
   ]
  },
  {
   "cell_type": "markdown",
   "metadata": {},
   "source": [
    "<a id='2.2'></a>\n",
    "### 2.2 Create the DataFrame\n",
    "\n",
    "The first step after creating the SparkSession is to create one or more DataFrames<br/>\n",
    "The data in the std layer is often stored in advanced storage formats like **parquet** or **delta**.<br/>\n",
    "These formats have the schema of the data embedded inside the file"
   ]
  },
  {
   "cell_type": "code",
   "execution_count": 5,
   "metadata": {},
   "outputs": [
    {
     "name": "stderr",
     "output_type": "stream",
     "text": [
      "                                                                                \r"
     ]
    }
   ],
   "source": [
    "tweets = (spark.read\n",
    "               .parquet(\"hdfs://localhost:9000/datalake/std/twitter/ps5/\"))"
   ]
  },
  {
   "cell_type": "markdown",
   "metadata": {},
   "source": [
    "<a id='2.3'></a>\n",
    "### 2.3 Perform Analytics\n",
    "\n",
    "**Total number of tweets**<br/>\n",
    "\n",
    "\n",
    "``` sql\n",
    "select count(*)\n",
    "from tweets\n",
    "``` "
   ]
  },
  {
   "cell_type": "code",
   "execution_count": 6,
   "metadata": {},
   "outputs": [
    {
     "name": "stderr",
     "output_type": "stream",
     "text": [
      "                                                                                \r"
     ]
    },
    {
     "data": {
      "text/plain": [
       "2489"
      ]
     },
     "execution_count": 6,
     "metadata": {},
     "output_type": "execute_result"
    }
   ],
   "source": [
    "tweets.count()"
   ]
  },
  {
   "cell_type": "markdown",
   "metadata": {},
   "source": [
    "**Total number of distinct users**<br/>\n",
    "``` sql\n",
    "select count(distinct user.id)\n",
    "from tweets\n",
    "``` "
   ]
  },
  {
   "cell_type": "code",
   "execution_count": 7,
   "metadata": {},
   "outputs": [
    {
     "name": "stderr",
     "output_type": "stream",
     "text": [
      "                                                                                \r"
     ]
    },
    {
     "data": {
      "text/plain": [
       "2065"
      ]
     },
     "execution_count": 7,
     "metadata": {},
     "output_type": "execute_result"
    }
   ],
   "source": [
    "tweets.select(\"user.id\").distinct().count()"
   ]
  },
  {
   "cell_type": "markdown",
   "metadata": {},
   "source": [
    "**Total number of users with geolocation enabled**<br/>\n",
    "``` sql\n",
    "select count(distinct user.id)\n",
    "from tweets\n",
    "where user.geo_enabled = true\n",
    "``` "
   ]
  },
  {
   "cell_type": "code",
   "execution_count": 18,
   "metadata": {},
   "outputs": [
    {
     "data": {
      "text/plain": [
       "DataFrame[id: bigint]"
      ]
     },
     "execution_count": 18,
     "metadata": {},
     "output_type": "execute_result"
    }
   ],
   "source": [
    "tweets.where(\"user.geo_enabled=true\").select(\"user.id\").distinct()"
   ]
  },
  {
   "cell_type": "code",
   "execution_count": 25,
   "metadata": {},
   "outputs": [
    {
     "name": "stderr",
     "output_type": "stream",
     "text": [
      "                                                                                \r"
     ]
    },
    {
     "data": {
      "text/html": [
       "<div>\n",
       "<style scoped>\n",
       "    .dataframe tbody tr th:only-of-type {\n",
       "        vertical-align: middle;\n",
       "    }\n",
       "\n",
       "    .dataframe tbody tr th {\n",
       "        vertical-align: top;\n",
       "    }\n",
       "\n",
       "    .dataframe thead th {\n",
       "        text-align: right;\n",
       "    }\n",
       "</style>\n",
       "<table border=\"1\" class=\"dataframe\">\n",
       "  <thead>\n",
       "    <tr style=\"text-align: right;\">\n",
       "      <th></th>\n",
       "      <th>country</th>\n",
       "    </tr>\n",
       "  </thead>\n",
       "  <tbody>\n",
       "    <tr>\n",
       "      <th>0</th>\n",
       "      <td>None</td>\n",
       "    </tr>\n",
       "    <tr>\n",
       "      <th>1</th>\n",
       "      <td>Ghana</td>\n",
       "    </tr>\n",
       "    <tr>\n",
       "      <th>2</th>\n",
       "      <td>United States</td>\n",
       "    </tr>\n",
       "    <tr>\n",
       "      <th>3</th>\n",
       "      <td>United Kingdom</td>\n",
       "    </tr>\n",
       "  </tbody>\n",
       "</table>\n",
       "</div>"
      ],
      "text/plain": [
       "          country\n",
       "0            None\n",
       "1           Ghana\n",
       "2   United States\n",
       "3  United Kingdom"
      ]
     },
     "execution_count": 25,
     "metadata": {},
     "output_type": "execute_result"
    }
   ],
   "source": [
    "#Top geo locations\n",
    "\n",
    "df = (tweets\n",
    "      .where(\"user.geo_enabled=true\")\n",
    "      .select(\"place.country\")\n",
    "      .distinct())\n",
    "df.toPandas()\n",
    "\n"
   ]
  },
  {
   "cell_type": "code",
   "execution_count": 27,
   "metadata": {},
   "outputs": [
    {
     "name": "stderr",
     "output_type": "stream",
     "text": [
      "                                                                                \r"
     ]
    },
    {
     "data": {
      "text/html": [
       "<div>\n",
       "<style scoped>\n",
       "    .dataframe tbody tr th:only-of-type {\n",
       "        vertical-align: middle;\n",
       "    }\n",
       "\n",
       "    .dataframe tbody tr th {\n",
       "        vertical-align: top;\n",
       "    }\n",
       "\n",
       "    .dataframe thead th {\n",
       "        text-align: right;\n",
       "    }\n",
       "</style>\n",
       "<table border=\"1\" class=\"dataframe\">\n",
       "  <thead>\n",
       "    <tr style=\"text-align: right;\">\n",
       "      <th></th>\n",
       "      <th>country</th>\n",
       "      <th>tweets_posted</th>\n",
       "    </tr>\n",
       "  </thead>\n",
       "  <tbody>\n",
       "    <tr>\n",
       "      <th>0</th>\n",
       "      <td>None</td>\n",
       "      <td>1578565</td>\n",
       "    </tr>\n",
       "    <tr>\n",
       "      <th>1</th>\n",
       "      <td>United Kingdom</td>\n",
       "      <td>31948</td>\n",
       "    </tr>\n",
       "    <tr>\n",
       "      <th>2</th>\n",
       "      <td>United States</td>\n",
       "      <td>18753</td>\n",
       "    </tr>\n",
       "    <tr>\n",
       "      <th>3</th>\n",
       "      <td>Ghana</td>\n",
       "      <td>12928</td>\n",
       "    </tr>\n",
       "  </tbody>\n",
       "</table>\n",
       "</div>"
      ],
      "text/plain": [
       "          country  tweets_posted\n",
       "0            None        1578565\n",
       "1  United Kingdom          31948\n",
       "2   United States          18753\n",
       "3           Ghana          12928"
      ]
     },
     "execution_count": 27,
     "metadata": {},
     "output_type": "execute_result"
    }
   ],
   "source": [
    "#Number of tweets per geography \n",
    "\n",
    "df = (tweets\n",
    "          .groupBy(\"place.country\")\n",
    "          .agg(max(\"user.statuses_count\").alias(\"tweets_posted\"))\n",
    "          .orderBy(desc(\"tweets_posted\"))\n",
    "          .limit(10))\n",
    "df.toPandas()      "
   ]
  },
  {
   "cell_type": "code",
   "execution_count": 30,
   "metadata": {},
   "outputs": [
    {
     "data": {
      "text/html": [
       "<div>\n",
       "<style scoped>\n",
       "    .dataframe tbody tr th:only-of-type {\n",
       "        vertical-align: middle;\n",
       "    }\n",
       "\n",
       "    .dataframe tbody tr th {\n",
       "        vertical-align: top;\n",
       "    }\n",
       "\n",
       "    .dataframe thead th {\n",
       "        text-align: right;\n",
       "    }\n",
       "</style>\n",
       "<table border=\"1\" class=\"dataframe\">\n",
       "  <thead>\n",
       "    <tr style=\"text-align: right;\">\n",
       "      <th></th>\n",
       "      <th>created_at</th>\n",
       "      <th>id</th>\n",
       "      <th>id_str</th>\n",
       "      <th>text</th>\n",
       "      <th>source</th>\n",
       "      <th>truncated</th>\n",
       "      <th>in_reply_to_status_id</th>\n",
       "      <th>in_reply_to_status_id_str</th>\n",
       "      <th>in_reply_to_user_id</th>\n",
       "      <th>in_reply_to_user_id_str</th>\n",
       "      <th>...</th>\n",
       "      <th>retweet_count</th>\n",
       "      <th>favorite_count</th>\n",
       "      <th>entities</th>\n",
       "      <th>favorited</th>\n",
       "      <th>retweeted</th>\n",
       "      <th>possibly_sensitive</th>\n",
       "      <th>filter_level</th>\n",
       "      <th>lang</th>\n",
       "      <th>year</th>\n",
       "      <th>dt</th>\n",
       "    </tr>\n",
       "  </thead>\n",
       "  <tbody>\n",
       "    <tr>\n",
       "      <th>0</th>\n",
       "      <td>2021-12-06 18:00:00</td>\n",
       "      <td>1467901649532379138</td>\n",
       "      <td>1467901649532379138</td>\n",
       "      <td>@CrispsCold Ok but like they still do better than the competition, like you literally cannot play most ps1-3 games… https://t.co/lpkvnNXk0R</td>\n",
       "      <td>&lt;a href=\"http://twitter.com/download/iphone\" rel=\"nofollow\"&gt;Twitter for iPhone&lt;/a&gt;</td>\n",
       "      <td>True</td>\n",
       "      <td>1.467900e+18</td>\n",
       "      <td>1467900027389591553</td>\n",
       "      <td>1.382412e+18</td>\n",
       "      <td>1382411562112192517</td>\n",
       "      <td>...</td>\n",
       "      <td>0</td>\n",
       "      <td>0</td>\n",
       "      <td>([(CrispsCold,)], [], None, [(https://twitter.com/i/web/status/1467901649532379138,)], [])</td>\n",
       "      <td>False</td>\n",
       "      <td>False</td>\n",
       "      <td>None</td>\n",
       "      <td>low</td>\n",
       "      <td>en</td>\n",
       "      <td>2021</td>\n",
       "      <td>2021-12-06</td>\n",
       "    </tr>\n",
       "    <tr>\n",
       "      <th>1</th>\n",
       "      <td>2021-12-06 18:00:00</td>\n",
       "      <td>1467901649922396166</td>\n",
       "      <td>1467901649922396166</td>\n",
       "      <td>The launch of Godfall: Challenger edition has started rolling out globally! PlayStation users can can begin downloa… https://t.co/8XtDEb0nQE</td>\n",
       "      <td>&lt;a href=\"https://studio.twitter.com\" rel=\"nofollow\"&gt;Twitter Media Studio&lt;/a&gt;</td>\n",
       "      <td>True</td>\n",
       "      <td>NaN</td>\n",
       "      <td>None</td>\n",
       "      <td>NaN</td>\n",
       "      <td>None</td>\n",
       "      <td>...</td>\n",
       "      <td>0</td>\n",
       "      <td>0</td>\n",
       "      <td>([], [], None, [(https://twitter.com/i/web/status/1467901649922396166,)], [])</td>\n",
       "      <td>False</td>\n",
       "      <td>False</td>\n",
       "      <td>False</td>\n",
       "      <td>low</td>\n",
       "      <td>en</td>\n",
       "      <td>2021</td>\n",
       "      <td>2021-12-06</td>\n",
       "    </tr>\n",
       "    <tr>\n",
       "      <th>2</th>\n",
       "      <td>2021-12-06 18:00:00</td>\n",
       "      <td>1467901649758957568</td>\n",
       "      <td>1467901649758957568</td>\n",
       "      <td>@insomniacgames still hooking it up! https://t.co/CsmcAzjhHe</td>\n",
       "      <td>&lt;a href=\"http://twitter.com/download/iphone\" rel=\"nofollow\"&gt;Twitter for iPhone&lt;/a&gt;</td>\n",
       "      <td>False</td>\n",
       "      <td>NaN</td>\n",
       "      <td>None</td>\n",
       "      <td>2.284110e+07</td>\n",
       "      <td>22841103</td>\n",
       "      <td>...</td>\n",
       "      <td>0</td>\n",
       "      <td>0</td>\n",
       "      <td>([(insomniacgames,)], [], [(https://twitter.com/ecjaxson/status/1467901649758957568/photo/1,)], [], [])</td>\n",
       "      <td>False</td>\n",
       "      <td>False</td>\n",
       "      <td>False</td>\n",
       "      <td>low</td>\n",
       "      <td>en</td>\n",
       "      <td>2021</td>\n",
       "      <td>2021-12-06</td>\n",
       "    </tr>\n",
       "    <tr>\n",
       "      <th>3</th>\n",
       "      <td>2021-12-06 18:00:00</td>\n",
       "      <td>1467901650610188290</td>\n",
       "      <td>1467901650610188290</td>\n",
       "      <td>RT @MCU_Direct: Here are official screenshots of #SpiderManNoWayHome's Integrated suit and the Black &amp;amp; Gold suit in #SpiderManPS5: https://…</td>\n",
       "      <td>&lt;a href=\"http://twitter.com/download/android\" rel=\"nofollow\"&gt;Twitter for Android&lt;/a&gt;</td>\n",
       "      <td>False</td>\n",
       "      <td>NaN</td>\n",
       "      <td>None</td>\n",
       "      <td>NaN</td>\n",
       "      <td>None</td>\n",
       "      <td>...</td>\n",
       "      <td>0</td>\n",
       "      <td>0</td>\n",
       "      <td>([(MCU_Direct,)], [(SpiderManNoWayHome,), (SpiderManPS5,)], None, [], [])</td>\n",
       "      <td>False</td>\n",
       "      <td>False</td>\n",
       "      <td>None</td>\n",
       "      <td>low</td>\n",
       "      <td>en</td>\n",
       "      <td>2021</td>\n",
       "      <td>2021-12-06</td>\n",
       "    </tr>\n",
       "    <tr>\n",
       "      <th>4</th>\n",
       "      <td>2021-12-06 18:00:00</td>\n",
       "      <td>1467901651000377345</td>\n",
       "      <td>1467901651000377345</td>\n",
       "      <td>He has a long history of burglaries. \\n\\nhttps://t.co/SPAJH5Bxxn</td>\n",
       "      <td>&lt;a href=\"https://about.twitter.com/products/tweetdeck\" rel=\"nofollow\"&gt;TweetDeck&lt;/a&gt;</td>\n",
       "      <td>False</td>\n",
       "      <td>NaN</td>\n",
       "      <td>None</td>\n",
       "      <td>NaN</td>\n",
       "      <td>None</td>\n",
       "      <td>...</td>\n",
       "      <td>0</td>\n",
       "      <td>0</td>\n",
       "      <td>([], [], None, [(https://www.wakefieldexpress.co.uk/news/crime/prolific-burglar-jailed-again-after-being-caught-on-cctv-stealing-playstation-3483255,)], [])</td>\n",
       "      <td>False</td>\n",
       "      <td>False</td>\n",
       "      <td>False</td>\n",
       "      <td>low</td>\n",
       "      <td>en</td>\n",
       "      <td>2021</td>\n",
       "      <td>2021-12-06</td>\n",
       "    </tr>\n",
       "    <tr>\n",
       "      <th>5</th>\n",
       "      <td>2021-12-06 18:00:00</td>\n",
       "      <td>1467901651776421895</td>\n",
       "      <td>1467901651776421895</td>\n",
       "      <td>RT @SupplyNinja: PS5 Digital will be dropping today for Total Tech Members!\\n\\nPS5 Digital \\nhttps://t.co/ZSApbuzKrK \\n\\nPS5 Disc Link (probable…</td>\n",
       "      <td>&lt;a href=\"http://twitter.com/download/iphone\" rel=\"nofollow\"&gt;Twitter for iPhone&lt;/a&gt;</td>\n",
       "      <td>False</td>\n",
       "      <td>NaN</td>\n",
       "      <td>None</td>\n",
       "      <td>NaN</td>\n",
       "      <td>None</td>\n",
       "      <td>...</td>\n",
       "      <td>0</td>\n",
       "      <td>0</td>\n",
       "      <td>([(SupplyNinja,)], [], None, [(http://bestbuy.7tiv.net/MXnPQq,)], [])</td>\n",
       "      <td>False</td>\n",
       "      <td>False</td>\n",
       "      <td>False</td>\n",
       "      <td>low</td>\n",
       "      <td>en</td>\n",
       "      <td>2021</td>\n",
       "      <td>2021-12-06</td>\n",
       "    </tr>\n",
       "    <tr>\n",
       "      <th>6</th>\n",
       "      <td>2021-12-06 18:00:00</td>\n",
       "      <td>1467901652447338501</td>\n",
       "      <td>1467901652447338501</td>\n",
       "      <td>🚨 PS5 Raffle #Announcement\\n\\nWe have partnered @MindsThirsty to bring you a PS5 raffle. Tickets are $5 ea there is n… https://t.co/N9dEl7iHMc</td>\n",
       "      <td>&lt;a href=\"https://mobile.twitter.com\" rel=\"nofollow\"&gt;Twitter Web App&lt;/a&gt;</td>\n",
       "      <td>True</td>\n",
       "      <td>NaN</td>\n",
       "      <td>None</td>\n",
       "      <td>NaN</td>\n",
       "      <td>None</td>\n",
       "      <td>...</td>\n",
       "      <td>0</td>\n",
       "      <td>0</td>\n",
       "      <td>([(MindsThirsty,)], [(Announcement,)], None, [(https://twitter.com/i/web/status/1467901652447338501,)], [])</td>\n",
       "      <td>False</td>\n",
       "      <td>False</td>\n",
       "      <td>False</td>\n",
       "      <td>low</td>\n",
       "      <td>en</td>\n",
       "      <td>2021</td>\n",
       "      <td>2021-12-06</td>\n",
       "    </tr>\n",
       "    <tr>\n",
       "      <th>7</th>\n",
       "      <td>2021-12-06 18:00:01</td>\n",
       "      <td>1467901653240197121</td>\n",
       "      <td>1467901653240197121</td>\n",
       "      <td>RT @YellingMadman: You guys have been amazing to me not only this year but for the last decade or more. I can't ever thank you guys enough!…</td>\n",
       "      <td>&lt;a href=\"http://twitter.com/download/iphone\" rel=\"nofollow\"&gt;Twitter for iPhone&lt;/a&gt;</td>\n",
       "      <td>False</td>\n",
       "      <td>NaN</td>\n",
       "      <td>None</td>\n",
       "      <td>NaN</td>\n",
       "      <td>None</td>\n",
       "      <td>...</td>\n",
       "      <td>0</td>\n",
       "      <td>0</td>\n",
       "      <td>([(YellingMadman,)], [], None, [], [])</td>\n",
       "      <td>False</td>\n",
       "      <td>False</td>\n",
       "      <td>None</td>\n",
       "      <td>low</td>\n",
       "      <td>en</td>\n",
       "      <td>2021</td>\n",
       "      <td>2021-12-06</td>\n",
       "    </tr>\n",
       "    <tr>\n",
       "      <th>8</th>\n",
       "      <td>2021-12-06 18:00:01</td>\n",
       "      <td>1467901654100062209</td>\n",
       "      <td>1467901654100062209</td>\n",
       "      <td>RT @Sageville: Been playing #ChorusGame on #PS5, it's really good. \\n\\nIf you are a space shooter fan, this is one that makes flight feel vis…</td>\n",
       "      <td>&lt;a href=\"http://twitter.com/download/iphone\" rel=\"nofollow\"&gt;Twitter for iPhone&lt;/a&gt;</td>\n",
       "      <td>False</td>\n",
       "      <td>NaN</td>\n",
       "      <td>None</td>\n",
       "      <td>NaN</td>\n",
       "      <td>None</td>\n",
       "      <td>...</td>\n",
       "      <td>0</td>\n",
       "      <td>0</td>\n",
       "      <td>([(Sageville,)], [(ChorusGame,), (PS5,)], None, [], [])</td>\n",
       "      <td>False</td>\n",
       "      <td>False</td>\n",
       "      <td>None</td>\n",
       "      <td>low</td>\n",
       "      <td>en</td>\n",
       "      <td>2021</td>\n",
       "      <td>2021-12-06</td>\n",
       "    </tr>\n",
       "    <tr>\n",
       "      <th>9</th>\n",
       "      <td>2021-12-06 18:00:01</td>\n",
       "      <td>1467901654963941376</td>\n",
       "      <td>1467901654963941376</td>\n",
       "      <td>Insomniac never stops with the Spider-Man love!!!</td>\n",
       "      <td>&lt;a href=\"http://twitter.com/download/iphone\" rel=\"nofollow\"&gt;Twitter for iPhone&lt;/a&gt;</td>\n",
       "      <td>False</td>\n",
       "      <td>NaN</td>\n",
       "      <td>None</td>\n",
       "      <td>NaN</td>\n",
       "      <td>None</td>\n",
       "      <td>...</td>\n",
       "      <td>0</td>\n",
       "      <td>0</td>\n",
       "      <td>([], [], None, [], [])</td>\n",
       "      <td>False</td>\n",
       "      <td>False</td>\n",
       "      <td>None</td>\n",
       "      <td>low</td>\n",
       "      <td>en</td>\n",
       "      <td>2021</td>\n",
       "      <td>2021-12-06</td>\n",
       "    </tr>\n",
       "  </tbody>\n",
       "</table>\n",
       "<p>10 rows × 29 columns</p>\n",
       "</div>"
      ],
      "text/plain": [
       "           created_at                   id               id_str  \\\n",
       "0 2021-12-06 18:00:00  1467901649532379138  1467901649532379138   \n",
       "1 2021-12-06 18:00:00  1467901649922396166  1467901649922396166   \n",
       "2 2021-12-06 18:00:00  1467901649758957568  1467901649758957568   \n",
       "3 2021-12-06 18:00:00  1467901650610188290  1467901650610188290   \n",
       "4 2021-12-06 18:00:00  1467901651000377345  1467901651000377345   \n",
       "5 2021-12-06 18:00:00  1467901651776421895  1467901651776421895   \n",
       "6 2021-12-06 18:00:00  1467901652447338501  1467901652447338501   \n",
       "7 2021-12-06 18:00:01  1467901653240197121  1467901653240197121   \n",
       "8 2021-12-06 18:00:01  1467901654100062209  1467901654100062209   \n",
       "9 2021-12-06 18:00:01  1467901654963941376  1467901654963941376   \n",
       "\n",
       "                                                                                                                                                text  \\\n",
       "0        @CrispsCold Ok but like they still do better than the competition, like you literally cannot play most ps1-3 games… https://t.co/lpkvnNXk0R   \n",
       "1       The launch of Godfall: Challenger edition has started rolling out globally! PlayStation users can can begin downloa… https://t.co/8XtDEb0nQE   \n",
       "2                                                                                       @insomniacgames still hooking it up! https://t.co/CsmcAzjhHe   \n",
       "3   RT @MCU_Direct: Here are official screenshots of #SpiderManNoWayHome's Integrated suit and the Black &amp; Gold suit in #SpiderManPS5: https://…   \n",
       "4                                                                                   He has a long history of burglaries. \\n\\nhttps://t.co/SPAJH5Bxxn   \n",
       "5  RT @SupplyNinja: PS5 Digital will be dropping today for Total Tech Members!\\n\\nPS5 Digital \\nhttps://t.co/ZSApbuzKrK \\n\\nPS5 Disc Link (probable…   \n",
       "6     🚨 PS5 Raffle #Announcement\\n\\nWe have partnered @MindsThirsty to bring you a PS5 raffle. Tickets are $5 ea there is n… https://t.co/N9dEl7iHMc   \n",
       "7       RT @YellingMadman: You guys have been amazing to me not only this year but for the last decade or more. I can't ever thank you guys enough!…   \n",
       "8     RT @Sageville: Been playing #ChorusGame on #PS5, it's really good. \\n\\nIf you are a space shooter fan, this is one that makes flight feel vis…   \n",
       "9                                                                                                  Insomniac never stops with the Spider-Man love!!!   \n",
       "\n",
       "                                                                                 source  \\\n",
       "0    <a href=\"http://twitter.com/download/iphone\" rel=\"nofollow\">Twitter for iPhone</a>   \n",
       "1          <a href=\"https://studio.twitter.com\" rel=\"nofollow\">Twitter Media Studio</a>   \n",
       "2    <a href=\"http://twitter.com/download/iphone\" rel=\"nofollow\">Twitter for iPhone</a>   \n",
       "3  <a href=\"http://twitter.com/download/android\" rel=\"nofollow\">Twitter for Android</a>   \n",
       "4   <a href=\"https://about.twitter.com/products/tweetdeck\" rel=\"nofollow\">TweetDeck</a>   \n",
       "5    <a href=\"http://twitter.com/download/iphone\" rel=\"nofollow\">Twitter for iPhone</a>   \n",
       "6               <a href=\"https://mobile.twitter.com\" rel=\"nofollow\">Twitter Web App</a>   \n",
       "7    <a href=\"http://twitter.com/download/iphone\" rel=\"nofollow\">Twitter for iPhone</a>   \n",
       "8    <a href=\"http://twitter.com/download/iphone\" rel=\"nofollow\">Twitter for iPhone</a>   \n",
       "9    <a href=\"http://twitter.com/download/iphone\" rel=\"nofollow\">Twitter for iPhone</a>   \n",
       "\n",
       "   truncated  in_reply_to_status_id in_reply_to_status_id_str  \\\n",
       "0       True           1.467900e+18       1467900027389591553   \n",
       "1       True                    NaN                      None   \n",
       "2      False                    NaN                      None   \n",
       "3      False                    NaN                      None   \n",
       "4      False                    NaN                      None   \n",
       "5      False                    NaN                      None   \n",
       "6       True                    NaN                      None   \n",
       "7      False                    NaN                      None   \n",
       "8      False                    NaN                      None   \n",
       "9      False                    NaN                      None   \n",
       "\n",
       "   in_reply_to_user_id in_reply_to_user_id_str  ... retweet_count  \\\n",
       "0         1.382412e+18     1382411562112192517  ...             0   \n",
       "1                  NaN                    None  ...             0   \n",
       "2         2.284110e+07                22841103  ...             0   \n",
       "3                  NaN                    None  ...             0   \n",
       "4                  NaN                    None  ...             0   \n",
       "5                  NaN                    None  ...             0   \n",
       "6                  NaN                    None  ...             0   \n",
       "7                  NaN                    None  ...             0   \n",
       "8                  NaN                    None  ...             0   \n",
       "9                  NaN                    None  ...             0   \n",
       "\n",
       "  favorite_count  \\\n",
       "0              0   \n",
       "1              0   \n",
       "2              0   \n",
       "3              0   \n",
       "4              0   \n",
       "5              0   \n",
       "6              0   \n",
       "7              0   \n",
       "8              0   \n",
       "9              0   \n",
       "\n",
       "                                                                                                                                                       entities  \\\n",
       "0                                                                    ([(CrispsCold,)], [], None, [(https://twitter.com/i/web/status/1467901649532379138,)], [])   \n",
       "1                                                                                 ([], [], None, [(https://twitter.com/i/web/status/1467901649922396166,)], [])   \n",
       "2                                                       ([(insomniacgames,)], [], [(https://twitter.com/ecjaxson/status/1467901649758957568/photo/1,)], [], [])   \n",
       "3                                                                                     ([(MCU_Direct,)], [(SpiderManNoWayHome,), (SpiderManPS5,)], None, [], [])   \n",
       "4  ([], [], None, [(https://www.wakefieldexpress.co.uk/news/crime/prolific-burglar-jailed-again-after-being-caught-on-cctv-stealing-playstation-3483255,)], [])   \n",
       "5                                                                                         ([(SupplyNinja,)], [], None, [(http://bestbuy.7tiv.net/MXnPQq,)], [])   \n",
       "6                                                   ([(MindsThirsty,)], [(Announcement,)], None, [(https://twitter.com/i/web/status/1467901652447338501,)], [])   \n",
       "7                                                                                                                        ([(YellingMadman,)], [], None, [], [])   \n",
       "8                                                                                                       ([(Sageville,)], [(ChorusGame,), (PS5,)], None, [], [])   \n",
       "9                                                                                                                                        ([], [], None, [], [])   \n",
       "\n",
       "  favorited  retweeted possibly_sensitive  filter_level  lang  year  \\\n",
       "0     False      False               None           low    en  2021   \n",
       "1     False      False              False           low    en  2021   \n",
       "2     False      False              False           low    en  2021   \n",
       "3     False      False               None           low    en  2021   \n",
       "4     False      False              False           low    en  2021   \n",
       "5     False      False              False           low    en  2021   \n",
       "6     False      False              False           low    en  2021   \n",
       "7     False      False               None           low    en  2021   \n",
       "8     False      False               None           low    en  2021   \n",
       "9     False      False               None           low    en  2021   \n",
       "\n",
       "           dt  \n",
       "0  2021-12-06  \n",
       "1  2021-12-06  \n",
       "2  2021-12-06  \n",
       "3  2021-12-06  \n",
       "4  2021-12-06  \n",
       "5  2021-12-06  \n",
       "6  2021-12-06  \n",
       "7  2021-12-06  \n",
       "8  2021-12-06  \n",
       "9  2021-12-06  \n",
       "\n",
       "[10 rows x 29 columns]"
      ]
     },
     "execution_count": 30,
     "metadata": {},
     "output_type": "execute_result"
    }
   ],
   "source": [
    "tweets.toPandas().head(10)"
   ]
  },
  {
   "cell_type": "markdown",
   "metadata": {},
   "source": [
    "**Total number of tweets per language**<br/>\n",
    "``` sql\n",
    "select lang,count(*) as total\n",
    "from tweets\n",
    "group by lang\n",
    "``` "
   ]
  },
  {
   "cell_type": "code",
   "execution_count": 9,
   "metadata": {},
   "outputs": [
    {
     "name": "stderr",
     "output_type": "stream",
     "text": [
      "                                                                                \r"
     ]
    },
    {
     "data": {
      "text/html": [
       "<div>\n",
       "<style scoped>\n",
       "    .dataframe tbody tr th:only-of-type {\n",
       "        vertical-align: middle;\n",
       "    }\n",
       "\n",
       "    .dataframe tbody tr th {\n",
       "        vertical-align: top;\n",
       "    }\n",
       "\n",
       "    .dataframe thead th {\n",
       "        text-align: right;\n",
       "    }\n",
       "</style>\n",
       "<table border=\"1\" class=\"dataframe\">\n",
       "  <thead>\n",
       "    <tr style=\"text-align: right;\">\n",
       "      <th></th>\n",
       "      <th>lang</th>\n",
       "      <th>total</th>\n",
       "    </tr>\n",
       "  </thead>\n",
       "  <tbody>\n",
       "    <tr>\n",
       "      <th>0</th>\n",
       "      <td>en</td>\n",
       "      <td>2489</td>\n",
       "    </tr>\n",
       "  </tbody>\n",
       "</table>\n",
       "</div>"
      ],
      "text/plain": [
       "  lang  total\n",
       "0   en   2489"
      ]
     },
     "execution_count": 9,
     "metadata": {},
     "output_type": "execute_result"
    }
   ],
   "source": [
    "from pyspark.sql.functions import *\n",
    "\n",
    "df = (tweets\n",
    "      .groupBy(\"lang\")\n",
    "      .agg(count(\"*\").alias(\"total\")))\n",
    "      \n",
    "df.toPandas()"
   ]
  },
  {
   "cell_type": "markdown",
   "metadata": {},
   "source": [
    "**Top 10 users with more tweets posted**<br/>\n",
    "``` sql\n",
    "select user.screen_name, max(user.statuses_count) tweets_posted \n",
    "from tweets\n",
    "group by user.screen_name\n",
    "order by tweets_posted desc\n",
    "limit 10\n",
    "```\n"
   ]
  },
  {
   "cell_type": "code",
   "execution_count": 10,
   "metadata": {},
   "outputs": [
    {
     "name": "stderr",
     "output_type": "stream",
     "text": [
      "                                                                                \r"
     ]
    },
    {
     "data": {
      "text/html": [
       "<div>\n",
       "<style scoped>\n",
       "    .dataframe tbody tr th:only-of-type {\n",
       "        vertical-align: middle;\n",
       "    }\n",
       "\n",
       "    .dataframe tbody tr th {\n",
       "        vertical-align: top;\n",
       "    }\n",
       "\n",
       "    .dataframe thead th {\n",
       "        text-align: right;\n",
       "    }\n",
       "</style>\n",
       "<table border=\"1\" class=\"dataframe\">\n",
       "  <thead>\n",
       "    <tr style=\"text-align: right;\">\n",
       "      <th></th>\n",
       "      <th>screen_name</th>\n",
       "      <th>tweets_posted</th>\n",
       "    </tr>\n",
       "  </thead>\n",
       "  <tbody>\n",
       "    <tr>\n",
       "      <th>0</th>\n",
       "      <td>falconhamada_90</td>\n",
       "      <td>1578565</td>\n",
       "    </tr>\n",
       "    <tr>\n",
       "      <th>1</th>\n",
       "      <td>littlebytesnews</td>\n",
       "      <td>1258480</td>\n",
       "    </tr>\n",
       "    <tr>\n",
       "      <th>2</th>\n",
       "      <td>BlazedRTs</td>\n",
       "      <td>969584</td>\n",
       "    </tr>\n",
       "    <tr>\n",
       "      <th>3</th>\n",
       "      <td>Sexual_hub2</td>\n",
       "      <td>965927</td>\n",
       "    </tr>\n",
       "    <tr>\n",
       "      <th>4</th>\n",
       "      <td>stream_caster</td>\n",
       "      <td>844705</td>\n",
       "    </tr>\n",
       "    <tr>\n",
       "      <th>5</th>\n",
       "      <td>TwitchSIE</td>\n",
       "      <td>794714</td>\n",
       "    </tr>\n",
       "    <tr>\n",
       "      <th>6</th>\n",
       "      <td>JasonLopezII</td>\n",
       "      <td>690867</td>\n",
       "    </tr>\n",
       "    <tr>\n",
       "      <th>7</th>\n",
       "      <td>DataAugmented</td>\n",
       "      <td>666820</td>\n",
       "    </tr>\n",
       "    <tr>\n",
       "      <th>8</th>\n",
       "      <td>ArgosHelpers</td>\n",
       "      <td>604629</td>\n",
       "    </tr>\n",
       "    <tr>\n",
       "      <th>9</th>\n",
       "      <td>RoseParamore7</td>\n",
       "      <td>593696</td>\n",
       "    </tr>\n",
       "  </tbody>\n",
       "</table>\n",
       "</div>"
      ],
      "text/plain": [
       "       screen_name  tweets_posted\n",
       "0  falconhamada_90        1578565\n",
       "1  littlebytesnews        1258480\n",
       "2        BlazedRTs         969584\n",
       "3      Sexual_hub2         965927\n",
       "4    stream_caster         844705\n",
       "5        TwitchSIE         794714\n",
       "6     JasonLopezII         690867\n",
       "7    DataAugmented         666820\n",
       "8     ArgosHelpers         604629\n",
       "9    RoseParamore7         593696"
      ]
     },
     "execution_count": 10,
     "metadata": {},
     "output_type": "execute_result"
    }
   ],
   "source": [
    "df = (tweets\n",
    "          .groupBy(\"user.screen_name\")\n",
    "          .agg(max(\"user.statuses_count\").alias(\"tweets_posted\"))\n",
    "          .orderBy(desc(\"tweets_posted\"))\n",
    "          .limit(10))\n",
    "df.toPandas()"
   ]
  },
  {
   "cell_type": "markdown",
   "metadata": {},
   "source": [
    "**Top 10 users with more followers**<br/>\n",
    "``` sql\n",
    "select user.screen_name, max(user.followers_count) follower_count \n",
    "from tweets\n",
    "group by user.screen_name\n",
    "order by followers_count desc\n",
    "limit 10\n",
    "```\n"
   ]
  },
  {
   "cell_type": "code",
   "execution_count": 11,
   "metadata": {
    "scrolled": true
   },
   "outputs": [
    {
     "name": "stderr",
     "output_type": "stream",
     "text": [
      "                                                                                \r"
     ]
    },
    {
     "data": {
      "text/html": [
       "<div>\n",
       "<style scoped>\n",
       "    .dataframe tbody tr th:only-of-type {\n",
       "        vertical-align: middle;\n",
       "    }\n",
       "\n",
       "    .dataframe tbody tr th {\n",
       "        vertical-align: top;\n",
       "    }\n",
       "\n",
       "    .dataframe thead th {\n",
       "        text-align: right;\n",
       "    }\n",
       "</style>\n",
       "<table border=\"1\" class=\"dataframe\">\n",
       "  <thead>\n",
       "    <tr style=\"text-align: right;\">\n",
       "      <th></th>\n",
       "      <th>screen_name</th>\n",
       "      <th>followers_count</th>\n",
       "    </tr>\n",
       "  </thead>\n",
       "  <tbody>\n",
       "    <tr>\n",
       "      <th>0</th>\n",
       "      <td>PlayStation</td>\n",
       "      <td>23178552</td>\n",
       "    </tr>\n",
       "    <tr>\n",
       "      <th>1</th>\n",
       "      <td>BlizzardCS</td>\n",
       "      <td>1016519</td>\n",
       "    </tr>\n",
       "    <tr>\n",
       "      <th>2</th>\n",
       "      <td>Ella_exclusive</td>\n",
       "      <td>673692</td>\n",
       "    </tr>\n",
       "    <tr>\n",
       "      <th>3</th>\n",
       "      <td>ASRBABES</td>\n",
       "      <td>504568</td>\n",
       "    </tr>\n",
       "    <tr>\n",
       "      <th>4</th>\n",
       "      <td>Sexual_hub2</td>\n",
       "      <td>489629</td>\n",
       "    </tr>\n",
       "    <tr>\n",
       "      <th>5</th>\n",
       "      <td>Tanikaso1</td>\n",
       "      <td>417394</td>\n",
       "    </tr>\n",
       "    <tr>\n",
       "      <th>6</th>\n",
       "      <td>LeedsNews</td>\n",
       "      <td>234403</td>\n",
       "    </tr>\n",
       "    <tr>\n",
       "      <th>7</th>\n",
       "      <td>_Illicit_Still</td>\n",
       "      <td>207688</td>\n",
       "    </tr>\n",
       "    <tr>\n",
       "      <th>8</th>\n",
       "      <td>AskPS_UK</td>\n",
       "      <td>187897</td>\n",
       "    </tr>\n",
       "    <tr>\n",
       "      <th>9</th>\n",
       "      <td>B_flix_</td>\n",
       "      <td>155247</td>\n",
       "    </tr>\n",
       "  </tbody>\n",
       "</table>\n",
       "</div>"
      ],
      "text/plain": [
       "      screen_name  followers_count\n",
       "0     PlayStation         23178552\n",
       "1      BlizzardCS          1016519\n",
       "2  Ella_exclusive           673692\n",
       "3        ASRBABES           504568\n",
       "4     Sexual_hub2           489629\n",
       "5       Tanikaso1           417394\n",
       "6       LeedsNews           234403\n",
       "7  _Illicit_Still           207688\n",
       "8        AskPS_UK           187897\n",
       "9         B_flix_           155247"
      ]
     },
     "execution_count": 11,
     "metadata": {},
     "output_type": "execute_result"
    }
   ],
   "source": [
    "df = (tweets\n",
    "          .groupBy(\"user.screen_name\")\n",
    "          .agg(max(\"user.followers_count\").alias(\"followers_count\"))\n",
    "          .orderBy(desc(\"followers_count\"))\n",
    "          .limit(10))\n",
    "df.toPandas()"
   ]
  },
  {
   "cell_type": "markdown",
   "metadata": {},
   "source": [
    "**Top 10 users with more mentions**<br/>\n",
    "``` sql\n",
    "select lower(user_mention) as user_mention, count(*) as mentions\n",
    "from tweets lateral view explode(entities.user_mentions.screen_name) u as user_mention\n",
    "group by lower(user_mention)\n",
    "order by mentions desc\n",
    "limit 10\n",
    "```"
   ]
  },
  {
   "cell_type": "code",
   "execution_count": 12,
   "metadata": {
    "scrolled": false
   },
   "outputs": [
    {
     "name": "stderr",
     "output_type": "stream",
     "text": [
      "                                                                                \r"
     ]
    },
    {
     "data": {
      "text/html": [
       "<div>\n",
       "<style scoped>\n",
       "    .dataframe tbody tr th:only-of-type {\n",
       "        vertical-align: middle;\n",
       "    }\n",
       "\n",
       "    .dataframe tbody tr th {\n",
       "        vertical-align: top;\n",
       "    }\n",
       "\n",
       "    .dataframe thead th {\n",
       "        text-align: right;\n",
       "    }\n",
       "</style>\n",
       "<table border=\"1\" class=\"dataframe\">\n",
       "  <thead>\n",
       "    <tr style=\"text-align: right;\">\n",
       "      <th></th>\n",
       "      <th>lower(user)</th>\n",
       "      <th>mentions</th>\n",
       "    </tr>\n",
       "  </thead>\n",
       "  <tbody>\n",
       "    <tr>\n",
       "      <th>0</th>\n",
       "      <td>playstation</td>\n",
       "      <td>315</td>\n",
       "    </tr>\n",
       "    <tr>\n",
       "      <th>1</th>\n",
       "      <td>insomniacgames</td>\n",
       "      <td>194</td>\n",
       "    </tr>\n",
       "    <tr>\n",
       "      <th>2</th>\n",
       "      <td>spiderman</td>\n",
       "      <td>178</td>\n",
       "    </tr>\n",
       "    <tr>\n",
       "      <th>3</th>\n",
       "      <td>marvel</td>\n",
       "      <td>108</td>\n",
       "    </tr>\n",
       "    <tr>\n",
       "      <th>4</th>\n",
       "      <td>guerrilla</td>\n",
       "      <td>97</td>\n",
       "    </tr>\n",
       "    <tr>\n",
       "      <th>5</th>\n",
       "      <td>mcu_direct</td>\n",
       "      <td>60</td>\n",
       "    </tr>\n",
       "    <tr>\n",
       "      <th>6</th>\n",
       "      <td>staplesuk</td>\n",
       "      <td>53</td>\n",
       "    </tr>\n",
       "    <tr>\n",
       "      <th>7</th>\n",
       "      <td>unrealengine</td>\n",
       "      <td>52</td>\n",
       "    </tr>\n",
       "    <tr>\n",
       "      <th>8</th>\n",
       "      <td>marvelgames</td>\n",
       "      <td>46</td>\n",
       "    </tr>\n",
       "    <tr>\n",
       "      <th>9</th>\n",
       "      <td>consoledetail</td>\n",
       "      <td>34</td>\n",
       "    </tr>\n",
       "  </tbody>\n",
       "</table>\n",
       "</div>"
      ],
      "text/plain": [
       "      lower(user)  mentions\n",
       "0     playstation       315\n",
       "1  insomniacgames       194\n",
       "2       spiderman       178\n",
       "3          marvel       108\n",
       "4       guerrilla        97\n",
       "5      mcu_direct        60\n",
       "6       staplesuk        53\n",
       "7    unrealengine        52\n",
       "8     marvelgames        46\n",
       "9   consoledetail        34"
      ]
     },
     "execution_count": 12,
     "metadata": {},
     "output_type": "execute_result"
    }
   ],
   "source": [
    "df = (tweets\n",
    "          .select(explode(\"entities.user_mentions.screen_name\").alias(\"user\"))\n",
    "          .groupBy(lower(\"user\"))\n",
    "          .agg(count(\"*\").alias(\"mentions\"))\n",
    "          .orderBy(desc(\"mentions\"))\n",
    "          .limit(10))\n",
    "df.toPandas()"
   ]
  },
  {
   "cell_type": "markdown",
   "metadata": {},
   "source": [
    "**Top 10 more popular hashtags**<br/>\n",
    "``` sql\n",
    "select lower(hashtag) as hashtag, count(*) as total\n",
    "from tweets lateral view explode(entities.hashtags.text) h as hashtag\n",
    "group by lower(hashtag)\n",
    "order by total desc\n",
    "limit 10\n",
    "```"
   ]
  },
  {
   "cell_type": "code",
   "execution_count": 13,
   "metadata": {
    "scrolled": true
   },
   "outputs": [
    {
     "name": "stderr",
     "output_type": "stream",
     "text": [
      "                                                                                \r"
     ]
    },
    {
     "data": {
      "text/html": [
       "<div>\n",
       "<style scoped>\n",
       "    .dataframe tbody tr th:only-of-type {\n",
       "        vertical-align: middle;\n",
       "    }\n",
       "\n",
       "    .dataframe tbody tr th {\n",
       "        vertical-align: top;\n",
       "    }\n",
       "\n",
       "    .dataframe thead th {\n",
       "        text-align: right;\n",
       "    }\n",
       "</style>\n",
       "<table border=\"1\" class=\"dataframe\">\n",
       "  <thead>\n",
       "    <tr style=\"text-align: right;\">\n",
       "      <th></th>\n",
       "      <th>hashtag</th>\n",
       "      <th>total</th>\n",
       "    </tr>\n",
       "  </thead>\n",
       "  <tbody>\n",
       "    <tr>\n",
       "      <th>0</th>\n",
       "      <td>SpiderManNoWayHome</td>\n",
       "      <td>442</td>\n",
       "    </tr>\n",
       "    <tr>\n",
       "      <th>1</th>\n",
       "      <td>PS4live</td>\n",
       "      <td>93</td>\n",
       "    </tr>\n",
       "    <tr>\n",
       "      <th>2</th>\n",
       "      <td>PS5</td>\n",
       "      <td>85</td>\n",
       "    </tr>\n",
       "    <tr>\n",
       "      <th>3</th>\n",
       "      <td>SpiderManPS5</td>\n",
       "      <td>62</td>\n",
       "    </tr>\n",
       "    <tr>\n",
       "      <th>4</th>\n",
       "      <td>PS5Share</td>\n",
       "      <td>51</td>\n",
       "    </tr>\n",
       "    <tr>\n",
       "      <th>5</th>\n",
       "      <td>WIN</td>\n",
       "      <td>26</td>\n",
       "    </tr>\n",
       "    <tr>\n",
       "      <th>6</th>\n",
       "      <td>StaplesUKPrizeDraw</td>\n",
       "      <td>26</td>\n",
       "    </tr>\n",
       "    <tr>\n",
       "      <th>7</th>\n",
       "      <td>PS4</td>\n",
       "      <td>24</td>\n",
       "    </tr>\n",
       "    <tr>\n",
       "      <th>8</th>\n",
       "      <td>ps5</td>\n",
       "      <td>20</td>\n",
       "    </tr>\n",
       "    <tr>\n",
       "      <th>9</th>\n",
       "      <td>Sony</td>\n",
       "      <td>13</td>\n",
       "    </tr>\n",
       "  </tbody>\n",
       "</table>\n",
       "</div>"
      ],
      "text/plain": [
       "              hashtag  total\n",
       "0  SpiderManNoWayHome    442\n",
       "1             PS4live     93\n",
       "2                 PS5     85\n",
       "3        SpiderManPS5     62\n",
       "4            PS5Share     51\n",
       "5                 WIN     26\n",
       "6  StaplesUKPrizeDraw     26\n",
       "7                 PS4     24\n",
       "8                 ps5     20\n",
       "9                Sony     13"
      ]
     },
     "execution_count": 13,
     "metadata": {},
     "output_type": "execute_result"
    }
   ],
   "source": [
    "df = (tweets\n",
    "      .select(explode(\"entities.hashtags.text\").alias(\"hashtag\"))\n",
    "      .groupBy(\"hashtag\")\n",
    "      .agg(count(\"*\").alias(\"total\"))\n",
    "      .orderBy(desc(\"total\"))\n",
    "      .limit(10))\n",
    "      \n",
    "df.toPandas()\n",
    "\n",
    "# to normalize (upper & lower case version of the same hashtag)\n",
    "#.groupBy(lower(\"hashtag\").alias(\"hashtag\"))"
   ]
  },
  {
   "cell_type": "markdown",
   "metadata": {},
   "source": [
    "**Top 10 more popular cashtags**<br/>\n",
    "``` sql\n",
    "select lower(hashtag) as hashtag, count(*) as total\n",
    "from tweets lateral view explode(entities.symbols.text) h as hashtag\n",
    "group by lower(hashtag)\n",
    "order by total desc\n",
    "limit 10\n",
    "```"
   ]
  },
  {
   "cell_type": "code",
   "execution_count": 14,
   "metadata": {
    "scrolled": false
   },
   "outputs": [
    {
     "name": "stderr",
     "output_type": "stream",
     "text": [
      "                                                                                \r"
     ]
    },
    {
     "data": {
      "text/html": [
       "<div>\n",
       "<style scoped>\n",
       "    .dataframe tbody tr th:only-of-type {\n",
       "        vertical-align: middle;\n",
       "    }\n",
       "\n",
       "    .dataframe tbody tr th {\n",
       "        vertical-align: top;\n",
       "    }\n",
       "\n",
       "    .dataframe thead th {\n",
       "        text-align: right;\n",
       "    }\n",
       "</style>\n",
       "<table border=\"1\" class=\"dataframe\">\n",
       "  <thead>\n",
       "    <tr style=\"text-align: right;\">\n",
       "      <th></th>\n",
       "      <th>cashtag</th>\n",
       "      <th>total</th>\n",
       "    </tr>\n",
       "  </thead>\n",
       "  <tbody>\n",
       "    <tr>\n",
       "      <th>0</th>\n",
       "      <td>NSRGY</td>\n",
       "      <td>1</td>\n",
       "    </tr>\n",
       "    <tr>\n",
       "      <th>1</th>\n",
       "      <td>SONY</td>\n",
       "      <td>1</td>\n",
       "    </tr>\n",
       "  </tbody>\n",
       "</table>\n",
       "</div>"
      ],
      "text/plain": [
       "  cashtag  total\n",
       "0   NSRGY      1\n",
       "1    SONY      1"
      ]
     },
     "execution_count": 14,
     "metadata": {},
     "output_type": "execute_result"
    }
   ],
   "source": [
    "df = (tweets\n",
    "    .select(explode(\"entities.symbols.text\").alias(\"cashtag\"))\n",
    "    .groupBy(upper(\"cashtag\").alias(\"cashtag\"))\n",
    "    .agg(count(\"*\").alias(\"total\"))\\\n",
    "    .orderBy(desc(\"total\"))\n",
    "    .limit(10))\n",
    "    \n",
    "df.toPandas()"
   ]
  },
  {
   "cell_type": "markdown",
   "metadata": {},
   "source": [
    "**Average number of words per tweet**<br/>\n",
    "``` sql\n",
    "select avg(size(split(text, ' '))) as avg_words\n",
    "from tweets\n",
    "```"
   ]
  },
  {
   "cell_type": "code",
   "execution_count": 15,
   "metadata": {
    "scrolled": false
   },
   "outputs": [
    {
     "data": {
      "text/html": [
       "<div>\n",
       "<style scoped>\n",
       "    .dataframe tbody tr th:only-of-type {\n",
       "        vertical-align: middle;\n",
       "    }\n",
       "\n",
       "    .dataframe tbody tr th {\n",
       "        vertical-align: top;\n",
       "    }\n",
       "\n",
       "    .dataframe thead th {\n",
       "        text-align: right;\n",
       "    }\n",
       "</style>\n",
       "<table border=\"1\" class=\"dataframe\">\n",
       "  <thead>\n",
       "    <tr style=\"text-align: right;\">\n",
       "      <th></th>\n",
       "      <th>avg_words</th>\n",
       "    </tr>\n",
       "  </thead>\n",
       "  <tbody>\n",
       "    <tr>\n",
       "      <th>0</th>\n",
       "      <td>17.279229</td>\n",
       "    </tr>\n",
       "  </tbody>\n",
       "</table>\n",
       "</div>"
      ],
      "text/plain": [
       "   avg_words\n",
       "0  17.279229"
      ]
     },
     "execution_count": 15,
     "metadata": {},
     "output_type": "execute_result"
    }
   ],
   "source": [
    "tweets.select(avg(size(split(\"text\", \" \"))).alias(\"avg_words\")).toPandas()"
   ]
  },
  {
   "cell_type": "markdown",
   "metadata": {},
   "source": [
    "**Max and average number of hashtags**<br/>\n",
    "``` sql\n",
    "select max(size(entities.hashtags)) as max,\n",
    "\t   avg(size(entities.hashtags)) as average\n",
    "from tweets\n",
    "```"
   ]
  },
  {
   "cell_type": "code",
   "execution_count": 16,
   "metadata": {
    "scrolled": false
   },
   "outputs": [
    {
     "data": {
      "text/html": [
       "<div>\n",
       "<style scoped>\n",
       "    .dataframe tbody tr th:only-of-type {\n",
       "        vertical-align: middle;\n",
       "    }\n",
       "\n",
       "    .dataframe tbody tr th {\n",
       "        vertical-align: top;\n",
       "    }\n",
       "\n",
       "    .dataframe thead th {\n",
       "        text-align: right;\n",
       "    }\n",
       "</style>\n",
       "<table border=\"1\" class=\"dataframe\">\n",
       "  <thead>\n",
       "    <tr style=\"text-align: right;\">\n",
       "      <th></th>\n",
       "      <th>max</th>\n",
       "      <th>average</th>\n",
       "    </tr>\n",
       "  </thead>\n",
       "  <tbody>\n",
       "    <tr>\n",
       "      <th>0</th>\n",
       "      <td>15</td>\n",
       "      <td>0.590197</td>\n",
       "    </tr>\n",
       "  </tbody>\n",
       "</table>\n",
       "</div>"
      ],
      "text/plain": [
       "   max   average\n",
       "0   15  0.590197"
      ]
     },
     "execution_count": 16,
     "metadata": {},
     "output_type": "execute_result"
    }
   ],
   "source": [
    "(tweets.select(\n",
    "            max(size(\"entities.hashtags\")).alias(\"max\"),\n",
    "            avg(size(\"entities.hashtags\")).alias(\"average\")\n",
    ")).toPandas()"
   ]
  },
  {
   "cell_type": "markdown",
   "metadata": {},
   "source": [
    "You have to install emojis library <br/>\n",
    "Open a terminal and execute\n",
    "```sh\n",
    "pip3 install emojis\n",
    "```"
   ]
  },
  {
   "cell_type": "markdown",
   "metadata": {},
   "source": [
    "**Top 20 more popular emojis**<br/>\n",
    "\n",
    "```sql\n",
    "select emoji, count(*) as total\n",
    "from tweets lateral view explode(get_emojis_udf(text)) e as emoji\n",
    "group by emoji\n",
    "order by total desc\n",
    "limit 20\n",
    "```"
   ]
  },
  {
   "cell_type": "code",
   "execution_count": 17,
   "metadata": {},
   "outputs": [
    {
     "ename": "ModuleNotFoundError",
     "evalue": "No module named 'emojis'",
     "output_type": "error",
     "traceback": [
      "\u001b[0;31m---------------------------------------------------------------------------\u001b[0m",
      "\u001b[0;31mModuleNotFoundError\u001b[0m                       Traceback (most recent call last)",
      "\u001b[0;32m/tmp/ipykernel_2692/3361310265.py\u001b[0m in \u001b[0;36m<module>\u001b[0;34m\u001b[0m\n\u001b[1;32m      1\u001b[0m \u001b[0;32mfrom\u001b[0m \u001b[0mpyspark\u001b[0m\u001b[0;34m.\u001b[0m\u001b[0msql\u001b[0m\u001b[0;34m.\u001b[0m\u001b[0mfunctions\u001b[0m \u001b[0;32mimport\u001b[0m \u001b[0mudf\u001b[0m\u001b[0;34m\u001b[0m\u001b[0;34m\u001b[0m\u001b[0m\n\u001b[1;32m      2\u001b[0m \u001b[0;34m\u001b[0m\u001b[0m\n\u001b[0;32m----> 3\u001b[0;31m \u001b[0;32mimport\u001b[0m \u001b[0memojis\u001b[0m\u001b[0;34m\u001b[0m\u001b[0;34m\u001b[0m\u001b[0m\n\u001b[0m\u001b[1;32m      4\u001b[0m \u001b[0;34m\u001b[0m\u001b[0m\n\u001b[1;32m      5\u001b[0m \u001b[0;34m@\u001b[0m\u001b[0mudf\u001b[0m\u001b[0;34m(\u001b[0m\u001b[0;34m\"array<string>\"\u001b[0m\u001b[0;34m)\u001b[0m\u001b[0;34m\u001b[0m\u001b[0;34m\u001b[0m\u001b[0m\n",
      "\u001b[0;31mModuleNotFoundError\u001b[0m: No module named 'emojis'"
     ]
    }
   ],
   "source": [
    "from pyspark.sql.functions import udf\n",
    "\n",
    "import emojis\n",
    "\n",
    "@udf(\"array<string>\")\n",
    "def get_emojis_udf(s):\n",
    "    set = emojis.get(s)\n",
    "    return [*set, ]\n",
    "\n",
    "tweets.select(explode(get_emojis_udf(\"text\")).alias(\"emoji\"))\\\n",
    "      .groupBy(\"emoji\").agg(count(\"*\").alias(\"total\")).orderBy(desc(\"total\")).limit(20)\\\n",
    "      .toPandas()"
   ]
  },
  {
   "cell_type": "markdown",
   "metadata": {},
   "source": [
    "<a id='3'></a>\n",
    "## 3. Tear Down\n",
    "\n",
    "Once we complete the the lab we can stop all the services"
   ]
  },
  {
   "cell_type": "markdown",
   "metadata": {},
   "source": [
    "<a id='3.1'></a>\n",
    "### 3.1 Stop Hadoop\n",
    "\n",
    "Stop Hadoop\n",
    "\n",
    "Open a terminal and execute\n",
    "```sh\n",
    "hadoop-stop.sh\n",
    "```"
   ]
  }
 ],
 "metadata": {
  "kernelspec": {
   "display_name": "Python 3 (ipykernel)",
   "language": "python",
   "name": "python3"
  },
  "language_info": {
   "codemirror_mode": {
    "name": "ipython",
    "version": 3
   },
   "file_extension": ".py",
   "mimetype": "text/x-python",
   "name": "python",
   "nbconvert_exporter": "python",
   "pygments_lexer": "ipython3",
   "version": "3.7.3"
  }
 },
 "nbformat": 4,
 "nbformat_minor": 4
}
