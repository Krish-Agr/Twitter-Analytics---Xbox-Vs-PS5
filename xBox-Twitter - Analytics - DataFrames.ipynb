{
 "cells": [
  {
   "cell_type": "markdown",
   "metadata": {},
   "source": [
    "<img width=\"200\" style=\"float:left\" \n",
    "     src=\"https://upload.wikimedia.org/wikipedia/commons/f/f3/Apache_Spark_logo.svg\" />"
   ]
  },
  {
   "cell_type": "markdown",
   "metadata": {},
   "source": [
    "# Sections\n",
    "* [Description](#0)\n",
    "* [1. Setup](#1)\n",
    "  * [1.1 Start Hadoop](#1.1)  \n",
    "  * [1.2 Search for Spark Installation](#1.2)\n",
    "  * [1.3 Create SparkSession](#1.3)\n",
    "* [2. Lab](#2)\n",
    "  * [2.1 Check Twitter Files](#2.1)\n",
    "  * [2.2 Create the DataFrame](#2.3)\n",
    "  * [2.3 Perform Analytics](#2.3)\n",
    "* [3. TearDown](#3)\n",
    "  * [3.1 Stop Hadoop](#3.1)"
   ]
  },
  {
   "cell_type": "markdown",
   "metadata": {},
   "source": [
    "<a id='0'></a>\n",
    "## Description\n",
    "<p>\n",
    "<div>The goals for this lab are:</div>\n",
    "<ul>    \n",
    "    <li>Get familiar with Spark DataFrames API</li>\n",
    "    <li>Apply some transformations using Spark DataFrames API</li>\n",
    "</ul>    \n",
    "</p>"
   ]
  },
  {
   "cell_type": "markdown",
   "metadata": {},
   "source": [
    "<a id='1'></a>\n",
    "## 1. Setup\n",
    "\n",
    "Since we are going to process data stored from HDFS let's start the service"
   ]
  },
  {
   "cell_type": "markdown",
   "metadata": {},
   "source": [
    "<a id='1.1'></a>\n",
    "### 1.1 Start Hadoop\n",
    "\n",
    "Start Hadoop\n",
    "\n",
    "Open a terminal and execute\n",
    "```sh\n",
    "hadoop-start.sh\n",
    "```"
   ]
  },
  {
   "cell_type": "markdown",
   "metadata": {},
   "source": [
    "<a id='1.2'></a>\n",
    "### 1.2 Search for Spark Installation \n",
    "This step is required just because we are working in the course environment."
   ]
  },
  {
   "cell_type": "code",
   "execution_count": 26,
   "metadata": {},
   "outputs": [],
   "source": [
    "import findspark\n",
    "findspark.init()"
   ]
  },
  {
   "cell_type": "markdown",
   "metadata": {},
   "source": [
    "I'm changing pandas max column width property to improve data displaying"
   ]
  },
  {
   "cell_type": "code",
   "execution_count": 27,
   "metadata": {},
   "outputs": [],
   "source": [
    "import pandas as pd\n",
    "pd.set_option('display.max_colwidth', None)"
   ]
  },
  {
   "cell_type": "markdown",
   "metadata": {},
   "source": [
    "<a id='1.3'></a>\n",
    "### 1.3 Create SparkSession\n",
    "\n",
    "By setting this environment variable we can include extra libraries in our Spark cluster"
   ]
  },
  {
   "cell_type": "code",
   "execution_count": 28,
   "metadata": {},
   "outputs": [],
   "source": [
    "import os\n",
    "os.environ['PYSPARK_SUBMIT_ARGS'] = '--jars /opt/hive3/lib/hive-hcatalog-core-3.1.2.jar pyspark-shell'"
   ]
  },
  {
   "cell_type": "markdown",
   "metadata": {},
   "source": [
    "The first thing always is to create the SparkSession"
   ]
  },
  {
   "cell_type": "code",
   "execution_count": 29,
   "metadata": {},
   "outputs": [],
   "source": [
    "from pyspark.sql.session import SparkSession\n",
    "\n",
    "spark = (SparkSession.builder\n",
    "    .appName(\"Twitter - Analytics - DataFrames\")\n",
    "    .config(\"spark.sql.warehouse.dir\",\"hdfs://localhost:9000/warehouse\")\n",
    "    .config(\"spark.sql.legacy.timeParserPolicy\",\"LEGACY\")\n",
    "    .enableHiveSupport()\n",
    "    .getOrCreate())"
   ]
  },
  {
   "cell_type": "markdown",
   "metadata": {},
   "source": [
    "<a id='2'></a>\n",
    "## 2. Lab"
   ]
  },
  {
   "cell_type": "markdown",
   "metadata": {},
   "source": [
    "<a id='2.1'></a>\n",
    "### 2.1 Check Twitter Files\n",
    "\n",
    "In order to complete this lab you need to previosly complete **'Twitter - RAW to STD - DataFrames'**.\n",
    "\n",
    "Check you have the data ready in HDFS\n",
    "\n",
    "http://localhost:50070/explorer.html#/datalake/std/twitter/bitcoin/"
   ]
  },
  {
   "cell_type": "markdown",
   "metadata": {},
   "source": [
    "<a id='2.2'></a>\n",
    "### 2.2 Create the DataFrame\n",
    "\n",
    "The first step after creating the SparkSession is to create one or more DataFrames<br/>\n",
    "The data in the std layer is often stored in advanced storage formats like **parquet** or **delta**.<br/>\n",
    "These formats have the schema of the data embedded inside the file"
   ]
  },
  {
   "cell_type": "code",
   "execution_count": 30,
   "metadata": {},
   "outputs": [],
   "source": [
    "tweets = (spark.read\n",
    "               .parquet(\"hdfs://localhost:9000/datalake/std/twitter/xBox/\"))"
   ]
  },
  {
   "cell_type": "markdown",
   "metadata": {},
   "source": [
    "<a id='2.3'></a>\n",
    "### 2.3 Perform Analytics\n",
    "\n",
    "**Total number of tweets**<br/>\n",
    "\n",
    "\n",
    "``` sql\n",
    "select count(*)\n",
    "from tweets\n",
    "``` "
   ]
  },
  {
   "cell_type": "code",
   "execution_count": 31,
   "metadata": {},
   "outputs": [
    {
     "data": {
      "text/plain": [
       "2754"
      ]
     },
     "execution_count": 31,
     "metadata": {},
     "output_type": "execute_result"
    }
   ],
   "source": [
    "tweets.count()"
   ]
  },
  {
   "cell_type": "markdown",
   "metadata": {},
   "source": [
    "**Total number of distinct users**<br/>\n",
    "``` sql\n",
    "select count(distinct user.id)\n",
    "from tweets\n",
    "``` "
   ]
  },
  {
   "cell_type": "code",
   "execution_count": 32,
   "metadata": {},
   "outputs": [
    {
     "name": "stderr",
     "output_type": "stream",
     "text": [
      "                                                                                \r"
     ]
    },
    {
     "data": {
      "text/plain": [
       "2307"
      ]
     },
     "execution_count": 32,
     "metadata": {},
     "output_type": "execute_result"
    }
   ],
   "source": [
    "tweets.select(\"user.id\").distinct().count()"
   ]
  },
  {
   "cell_type": "markdown",
   "metadata": {},
   "source": [
    "**Total number of users with geolocation enabled**<br/>\n",
    "``` sql\n",
    "select count(distinct user.id)\n",
    "from tweets\n",
    "where user.geo_enabled = true\n",
    "``` "
   ]
  },
  {
   "cell_type": "code",
   "execution_count": 33,
   "metadata": {},
   "outputs": [
    {
     "data": {
      "text/plain": [
       "DataFrame[id: bigint]"
      ]
     },
     "execution_count": 33,
     "metadata": {},
     "output_type": "execute_result"
    }
   ],
   "source": [
    "tweets.where(\"user.geo_enabled=true\").select(\"user.id\").distinct()"
   ]
  },
  {
   "cell_type": "code",
   "execution_count": 34,
   "metadata": {},
   "outputs": [
    {
     "name": "stderr",
     "output_type": "stream",
     "text": [
      "                                                                                \r"
     ]
    },
    {
     "data": {
      "text/html": [
       "<div>\n",
       "<style scoped>\n",
       "    .dataframe tbody tr th:only-of-type {\n",
       "        vertical-align: middle;\n",
       "    }\n",
       "\n",
       "    .dataframe tbody tr th {\n",
       "        vertical-align: top;\n",
       "    }\n",
       "\n",
       "    .dataframe thead th {\n",
       "        text-align: right;\n",
       "    }\n",
       "</style>\n",
       "<table border=\"1\" class=\"dataframe\">\n",
       "  <thead>\n",
       "    <tr style=\"text-align: right;\">\n",
       "      <th></th>\n",
       "      <th>country</th>\n",
       "    </tr>\n",
       "  </thead>\n",
       "  <tbody>\n",
       "    <tr>\n",
       "      <th>0</th>\n",
       "      <td>None</td>\n",
       "    </tr>\n",
       "    <tr>\n",
       "      <th>1</th>\n",
       "      <td>United States</td>\n",
       "    </tr>\n",
       "    <tr>\n",
       "      <th>2</th>\n",
       "      <td>India</td>\n",
       "    </tr>\n",
       "    <tr>\n",
       "      <th>3</th>\n",
       "      <td>United Kingdom</td>\n",
       "    </tr>\n",
       "  </tbody>\n",
       "</table>\n",
       "</div>"
      ],
      "text/plain": [
       "          country\n",
       "0            None\n",
       "1   United States\n",
       "2           India\n",
       "3  United Kingdom"
      ]
     },
     "execution_count": 34,
     "metadata": {},
     "output_type": "execute_result"
    }
   ],
   "source": [
    "#Top geo locations\n",
    "\n",
    "df = (tweets\n",
    "      .where(\"user.geo_enabled=true\")\n",
    "      .select(\"place.country\")\n",
    "      .distinct())\n",
    "df.toPandas()\n",
    "\n"
   ]
  },
  {
   "cell_type": "code",
   "execution_count": 35,
   "metadata": {},
   "outputs": [
    {
     "name": "stderr",
     "output_type": "stream",
     "text": [
      "                                                                                \r"
     ]
    },
    {
     "data": {
      "text/html": [
       "<div>\n",
       "<style scoped>\n",
       "    .dataframe tbody tr th:only-of-type {\n",
       "        vertical-align: middle;\n",
       "    }\n",
       "\n",
       "    .dataframe tbody tr th {\n",
       "        vertical-align: top;\n",
       "    }\n",
       "\n",
       "    .dataframe thead th {\n",
       "        text-align: right;\n",
       "    }\n",
       "</style>\n",
       "<table border=\"1\" class=\"dataframe\">\n",
       "  <thead>\n",
       "    <tr style=\"text-align: right;\">\n",
       "      <th></th>\n",
       "      <th>country</th>\n",
       "      <th>tweets_posted</th>\n",
       "    </tr>\n",
       "  </thead>\n",
       "  <tbody>\n",
       "    <tr>\n",
       "      <th>0</th>\n",
       "      <td>None</td>\n",
       "      <td>3008722</td>\n",
       "    </tr>\n",
       "    <tr>\n",
       "      <th>1</th>\n",
       "      <td>United States</td>\n",
       "      <td>766507</td>\n",
       "    </tr>\n",
       "    <tr>\n",
       "      <th>2</th>\n",
       "      <td>United Kingdom</td>\n",
       "      <td>27266</td>\n",
       "    </tr>\n",
       "    <tr>\n",
       "      <th>3</th>\n",
       "      <td>India</td>\n",
       "      <td>2790</td>\n",
       "    </tr>\n",
       "  </tbody>\n",
       "</table>\n",
       "</div>"
      ],
      "text/plain": [
       "          country  tweets_posted\n",
       "0            None        3008722\n",
       "1   United States         766507\n",
       "2  United Kingdom          27266\n",
       "3           India           2790"
      ]
     },
     "execution_count": 35,
     "metadata": {},
     "output_type": "execute_result"
    }
   ],
   "source": [
    "#Number of tweets per geography \n",
    "\n",
    "df = (tweets\n",
    "          .groupBy(\"place.country\")\n",
    "          .agg(max(\"user.statuses_count\").alias(\"tweets_posted\"))\n",
    "          .orderBy(desc(\"tweets_posted\"))\n",
    "          .limit(10))\n",
    "df.toPandas()      "
   ]
  },
  {
   "cell_type": "code",
   "execution_count": 36,
   "metadata": {},
   "outputs": [
    {
     "data": {
      "text/html": [
       "<div>\n",
       "<style scoped>\n",
       "    .dataframe tbody tr th:only-of-type {\n",
       "        vertical-align: middle;\n",
       "    }\n",
       "\n",
       "    .dataframe tbody tr th {\n",
       "        vertical-align: top;\n",
       "    }\n",
       "\n",
       "    .dataframe thead th {\n",
       "        text-align: right;\n",
       "    }\n",
       "</style>\n",
       "<table border=\"1\" class=\"dataframe\">\n",
       "  <thead>\n",
       "    <tr style=\"text-align: right;\">\n",
       "      <th></th>\n",
       "      <th>created_at</th>\n",
       "      <th>id</th>\n",
       "      <th>id_str</th>\n",
       "      <th>text</th>\n",
       "      <th>source</th>\n",
       "      <th>truncated</th>\n",
       "      <th>in_reply_to_status_id</th>\n",
       "      <th>in_reply_to_status_id_str</th>\n",
       "      <th>in_reply_to_user_id</th>\n",
       "      <th>in_reply_to_user_id_str</th>\n",
       "      <th>...</th>\n",
       "      <th>retweet_count</th>\n",
       "      <th>favorite_count</th>\n",
       "      <th>entities</th>\n",
       "      <th>favorited</th>\n",
       "      <th>retweeted</th>\n",
       "      <th>possibly_sensitive</th>\n",
       "      <th>filter_level</th>\n",
       "      <th>lang</th>\n",
       "      <th>year</th>\n",
       "      <th>dt</th>\n",
       "    </tr>\n",
       "  </thead>\n",
       "  <tbody>\n",
       "    <tr>\n",
       "      <th>0</th>\n",
       "      <td>2021-12-06 17:34:40</td>\n",
       "      <td>1467895277231222791</td>\n",
       "      <td>1467895277231222791</td>\n",
       "      <td>RT @geoffkeighley: I've been waiting a long time for a moment like this. \\n\\nThursday, witness the future of interactive storytelling and ent…</td>\n",
       "      <td>&lt;a href=\"http://twitter.com/download/iphone\" rel=\"nofollow\"&gt;Twitter for iPhone&lt;/a&gt;</td>\n",
       "      <td>False</td>\n",
       "      <td>NaN</td>\n",
       "      <td>None</td>\n",
       "      <td>NaN</td>\n",
       "      <td>None</td>\n",
       "      <td>...</td>\n",
       "      <td>0</td>\n",
       "      <td>0</td>\n",
       "      <td>([(geoffkeighley,)], [], None, [], [])</td>\n",
       "      <td>False</td>\n",
       "      <td>False</td>\n",
       "      <td>None</td>\n",
       "      <td>low</td>\n",
       "      <td>en</td>\n",
       "      <td>2021</td>\n",
       "      <td>2021-12-06</td>\n",
       "    </tr>\n",
       "    <tr>\n",
       "      <th>1</th>\n",
       "      <td>2021-12-06 17:34:41</td>\n",
       "      <td>1467895278598561794</td>\n",
       "      <td>1467895278598561794</td>\n",
       "      <td>Only available on PS5? Ok I hate them now😒💔🤦‍♂️😭WTFFFFF I’m not rich to buy ps5 damn it</td>\n",
       "      <td>&lt;a href=\"http://twitter.com/download/iphone\" rel=\"nofollow\"&gt;Twitter for iPhone&lt;/a&gt;</td>\n",
       "      <td>False</td>\n",
       "      <td>NaN</td>\n",
       "      <td>None</td>\n",
       "      <td>NaN</td>\n",
       "      <td>None</td>\n",
       "      <td>...</td>\n",
       "      <td>0</td>\n",
       "      <td>0</td>\n",
       "      <td>([], [], None, [], [])</td>\n",
       "      <td>False</td>\n",
       "      <td>False</td>\n",
       "      <td>None</td>\n",
       "      <td>low</td>\n",
       "      <td>en</td>\n",
       "      <td>2021</td>\n",
       "      <td>2021-12-06</td>\n",
       "    </tr>\n",
       "    <tr>\n",
       "      <th>2</th>\n",
       "      <td>2021-12-06 17:34:41</td>\n",
       "      <td>1467895279840026627</td>\n",
       "      <td>1467895279840026627</td>\n",
       "      <td>@PlayStation rift apart deserves this</td>\n",
       "      <td>&lt;a href=\"https://mobile.twitter.com\" rel=\"nofollow\"&gt;Twitter Web App&lt;/a&gt;</td>\n",
       "      <td>False</td>\n",
       "      <td>1.467895e+18</td>\n",
       "      <td>1467894587880443904</td>\n",
       "      <td>1.067160e+07</td>\n",
       "      <td>10671602</td>\n",
       "      <td>...</td>\n",
       "      <td>0</td>\n",
       "      <td>0</td>\n",
       "      <td>([(PlayStation,)], [], None, [], [])</td>\n",
       "      <td>False</td>\n",
       "      <td>False</td>\n",
       "      <td>None</td>\n",
       "      <td>low</td>\n",
       "      <td>en</td>\n",
       "      <td>2021</td>\n",
       "      <td>2021-12-06</td>\n",
       "    </tr>\n",
       "    <tr>\n",
       "      <th>3</th>\n",
       "      <td>2021-12-06 17:34:41</td>\n",
       "      <td>1467895280486035457</td>\n",
       "      <td>1467895280486035457</td>\n",
       "      <td>Digital PS5 and XSX total tech member drop confirmed for today 12/6 at Best Buy</td>\n",
       "      <td>&lt;a href=\"http://twitter.com/download/iphone\" rel=\"nofollow\"&gt;Twitter for iPhone&lt;/a&gt;</td>\n",
       "      <td>False</td>\n",
       "      <td>NaN</td>\n",
       "      <td>None</td>\n",
       "      <td>NaN</td>\n",
       "      <td>None</td>\n",
       "      <td>...</td>\n",
       "      <td>0</td>\n",
       "      <td>0</td>\n",
       "      <td>([], [], None, [], [])</td>\n",
       "      <td>False</td>\n",
       "      <td>False</td>\n",
       "      <td>None</td>\n",
       "      <td>low</td>\n",
       "      <td>en</td>\n",
       "      <td>2021</td>\n",
       "      <td>2021-12-06</td>\n",
       "    </tr>\n",
       "    <tr>\n",
       "      <th>4</th>\n",
       "      <td>2021-12-06 17:34:42</td>\n",
       "      <td>1467895282289586179</td>\n",
       "      <td>1467895282289586179</td>\n",
       "      <td>@TheRestockBot 🚨The first couple followers to give us a private message, and is serious about purchasing a #PS5 or… https://t.co/DpwlzVTtFs</td>\n",
       "      <td>&lt;a href=\"http://twitter.com/download/iphone\" rel=\"nofollow\"&gt;Twitter for iPhone&lt;/a&gt;</td>\n",
       "      <td>True</td>\n",
       "      <td>1.467895e+18</td>\n",
       "      <td>1467895256289099778</td>\n",
       "      <td>1.347299e+18</td>\n",
       "      <td>1347298785853059078</td>\n",
       "      <td>...</td>\n",
       "      <td>0</td>\n",
       "      <td>0</td>\n",
       "      <td>([(TheRestockBot,)], [(PS5,)], None, [(https://twitter.com/i/web/status/1467895282289586179,)], [])</td>\n",
       "      <td>False</td>\n",
       "      <td>False</td>\n",
       "      <td>False</td>\n",
       "      <td>low</td>\n",
       "      <td>en</td>\n",
       "      <td>2021</td>\n",
       "      <td>2021-12-06</td>\n",
       "    </tr>\n",
       "    <tr>\n",
       "      <th>5</th>\n",
       "      <td>2021-12-06 17:34:42</td>\n",
       "      <td>1467895282604167170</td>\n",
       "      <td>1467895282604167170</td>\n",
       "      <td>Can’t wait to use these suits on my (((PLAYSTATION 5)))</td>\n",
       "      <td>&lt;a href=\"http://twitter.com/download/iphone\" rel=\"nofollow\"&gt;Twitter for iPhone&lt;/a&gt;</td>\n",
       "      <td>False</td>\n",
       "      <td>NaN</td>\n",
       "      <td>None</td>\n",
       "      <td>NaN</td>\n",
       "      <td>None</td>\n",
       "      <td>...</td>\n",
       "      <td>0</td>\n",
       "      <td>0</td>\n",
       "      <td>([], [], None, [], [])</td>\n",
       "      <td>False</td>\n",
       "      <td>False</td>\n",
       "      <td>None</td>\n",
       "      <td>low</td>\n",
       "      <td>en</td>\n",
       "      <td>2021</td>\n",
       "      <td>2021-12-06</td>\n",
       "    </tr>\n",
       "    <tr>\n",
       "      <th>6</th>\n",
       "      <td>2021-12-06 17:34:42</td>\n",
       "      <td>1467895283929391108</td>\n",
       "      <td>1467895283929391108</td>\n",
       "      <td>RT @MCU_Direct: BREAKING: #SpiderManNoWayHome's Integrated suit and the Black &amp;amp; Gold suit are officially coming to Marvel's #SpiderManPS5 o…</td>\n",
       "      <td>&lt;a href=\"http://twitter.com/download/android\" rel=\"nofollow\"&gt;Twitter for Android&lt;/a&gt;</td>\n",
       "      <td>False</td>\n",
       "      <td>NaN</td>\n",
       "      <td>None</td>\n",
       "      <td>NaN</td>\n",
       "      <td>None</td>\n",
       "      <td>...</td>\n",
       "      <td>0</td>\n",
       "      <td>0</td>\n",
       "      <td>([(MCU_Direct,)], [(SpiderManNoWayHome,), (SpiderManPS5,)], None, [], [])</td>\n",
       "      <td>False</td>\n",
       "      <td>False</td>\n",
       "      <td>None</td>\n",
       "      <td>low</td>\n",
       "      <td>en</td>\n",
       "      <td>2021</td>\n",
       "      <td>2021-12-06</td>\n",
       "    </tr>\n",
       "    <tr>\n",
       "      <th>7</th>\n",
       "      <td>2021-12-06 17:34:42</td>\n",
       "      <td>1467895283761745922</td>\n",
       "      <td>1467895283761745922</td>\n",
       "      <td>@bioware \\n@PlayStation\\nHappened to be cleaning a storage box and stumbled upon my original launch copy from my 2011… https://t.co/WOeHHmUmi1</td>\n",
       "      <td>&lt;a href=\"http://twitter.com/download/android\" rel=\"nofollow\"&gt;Twitter for Android&lt;/a&gt;</td>\n",
       "      <td>True</td>\n",
       "      <td>NaN</td>\n",
       "      <td>None</td>\n",
       "      <td>2.115869e+07</td>\n",
       "      <td>21158690</td>\n",
       "      <td>...</td>\n",
       "      <td>0</td>\n",
       "      <td>0</td>\n",
       "      <td>([(bioware,), (PlayStation,)], [], None, [(https://twitter.com/i/web/status/1467895283761745922,)], [])</td>\n",
       "      <td>False</td>\n",
       "      <td>False</td>\n",
       "      <td>False</td>\n",
       "      <td>low</td>\n",
       "      <td>en</td>\n",
       "      <td>2021</td>\n",
       "      <td>2021-12-06</td>\n",
       "    </tr>\n",
       "    <tr>\n",
       "      <th>8</th>\n",
       "      <td>2021-12-06 17:34:42</td>\n",
       "      <td>1467895285749886977</td>\n",
       "      <td>1467895285749886977</td>\n",
       "      <td>@Brandylriggs @LordOfRestocks I Suggest you Check the team over at @PS5StocksDrops   after almost a year  of trying… https://t.co/TD6sZ6lryh</td>\n",
       "      <td>&lt;a href=\"http://twitter.com/download/iphone\" rel=\"nofollow\"&gt;Twitter for iPhone&lt;/a&gt;</td>\n",
       "      <td>True</td>\n",
       "      <td>1.467895e+18</td>\n",
       "      <td>1467895179495370757</td>\n",
       "      <td>1.453748e+18</td>\n",
       "      <td>1453748022169403392</td>\n",
       "      <td>...</td>\n",
       "      <td>0</td>\n",
       "      <td>0</td>\n",
       "      <td>([(Brandylriggs,), (LordOfRestocks,), (PS5StocksDrops,)], [], None, [(https://twitter.com/i/web/status/1467895285749886977,)], [])</td>\n",
       "      <td>False</td>\n",
       "      <td>False</td>\n",
       "      <td>False</td>\n",
       "      <td>low</td>\n",
       "      <td>en</td>\n",
       "      <td>2021</td>\n",
       "      <td>2021-12-06</td>\n",
       "    </tr>\n",
       "    <tr>\n",
       "      <th>9</th>\n",
       "      <td>2021-12-06 17:34:43</td>\n",
       "      <td>1467895287024922625</td>\n",
       "      <td>1467895287024922625</td>\n",
       "      <td>RT @Guerrilla: Are you going in with a stealth approach or do you take out your opponents head-on... Learn more about outsmarting your enem…</td>\n",
       "      <td>&lt;a href=\"https://mobile.twitter.com\" rel=\"nofollow\"&gt;Twitter Web App&lt;/a&gt;</td>\n",
       "      <td>False</td>\n",
       "      <td>NaN</td>\n",
       "      <td>None</td>\n",
       "      <td>NaN</td>\n",
       "      <td>None</td>\n",
       "      <td>...</td>\n",
       "      <td>0</td>\n",
       "      <td>0</td>\n",
       "      <td>([(Guerrilla,)], [], None, [], [])</td>\n",
       "      <td>False</td>\n",
       "      <td>False</td>\n",
       "      <td>None</td>\n",
       "      <td>low</td>\n",
       "      <td>en</td>\n",
       "      <td>2021</td>\n",
       "      <td>2021-12-06</td>\n",
       "    </tr>\n",
       "  </tbody>\n",
       "</table>\n",
       "<p>10 rows × 29 columns</p>\n",
       "</div>"
      ],
      "text/plain": [
       "           created_at                   id               id_str  \\\n",
       "0 2021-12-06 17:34:40  1467895277231222791  1467895277231222791   \n",
       "1 2021-12-06 17:34:41  1467895278598561794  1467895278598561794   \n",
       "2 2021-12-06 17:34:41  1467895279840026627  1467895279840026627   \n",
       "3 2021-12-06 17:34:41  1467895280486035457  1467895280486035457   \n",
       "4 2021-12-06 17:34:42  1467895282289586179  1467895282289586179   \n",
       "5 2021-12-06 17:34:42  1467895282604167170  1467895282604167170   \n",
       "6 2021-12-06 17:34:42  1467895283929391108  1467895283929391108   \n",
       "7 2021-12-06 17:34:42  1467895283761745922  1467895283761745922   \n",
       "8 2021-12-06 17:34:42  1467895285749886977  1467895285749886977   \n",
       "9 2021-12-06 17:34:43  1467895287024922625  1467895287024922625   \n",
       "\n",
       "                                                                                                                                               text  \\\n",
       "0    RT @geoffkeighley: I've been waiting a long time for a moment like this. \\n\\nThursday, witness the future of interactive storytelling and ent…   \n",
       "1                                                           Only available on PS5? Ok I hate them now😒💔🤦‍♂️😭WTFFFFF I’m not rich to buy ps5 damn it   \n",
       "2                                                                                                             @PlayStation rift apart deserves this   \n",
       "3                                                                   Digital PS5 and XSX total tech member drop confirmed for today 12/6 at Best Buy   \n",
       "4       @TheRestockBot 🚨The first couple followers to give us a private message, and is serious about purchasing a #PS5 or… https://t.co/DpwlzVTtFs   \n",
       "5                                                                                           Can’t wait to use these suits on my (((PLAYSTATION 5)))   \n",
       "6  RT @MCU_Direct: BREAKING: #SpiderManNoWayHome's Integrated suit and the Black &amp; Gold suit are officially coming to Marvel's #SpiderManPS5 o…   \n",
       "7    @bioware \\n@PlayStation\\nHappened to be cleaning a storage box and stumbled upon my original launch copy from my 2011… https://t.co/WOeHHmUmi1   \n",
       "8      @Brandylriggs @LordOfRestocks I Suggest you Check the team over at @PS5StocksDrops   after almost a year  of trying… https://t.co/TD6sZ6lryh   \n",
       "9      RT @Guerrilla: Are you going in with a stealth approach or do you take out your opponents head-on... Learn more about outsmarting your enem…   \n",
       "\n",
       "                                                                                 source  \\\n",
       "0    <a href=\"http://twitter.com/download/iphone\" rel=\"nofollow\">Twitter for iPhone</a>   \n",
       "1    <a href=\"http://twitter.com/download/iphone\" rel=\"nofollow\">Twitter for iPhone</a>   \n",
       "2               <a href=\"https://mobile.twitter.com\" rel=\"nofollow\">Twitter Web App</a>   \n",
       "3    <a href=\"http://twitter.com/download/iphone\" rel=\"nofollow\">Twitter for iPhone</a>   \n",
       "4    <a href=\"http://twitter.com/download/iphone\" rel=\"nofollow\">Twitter for iPhone</a>   \n",
       "5    <a href=\"http://twitter.com/download/iphone\" rel=\"nofollow\">Twitter for iPhone</a>   \n",
       "6  <a href=\"http://twitter.com/download/android\" rel=\"nofollow\">Twitter for Android</a>   \n",
       "7  <a href=\"http://twitter.com/download/android\" rel=\"nofollow\">Twitter for Android</a>   \n",
       "8    <a href=\"http://twitter.com/download/iphone\" rel=\"nofollow\">Twitter for iPhone</a>   \n",
       "9               <a href=\"https://mobile.twitter.com\" rel=\"nofollow\">Twitter Web App</a>   \n",
       "\n",
       "   truncated  in_reply_to_status_id in_reply_to_status_id_str  \\\n",
       "0      False                    NaN                      None   \n",
       "1      False                    NaN                      None   \n",
       "2      False           1.467895e+18       1467894587880443904   \n",
       "3      False                    NaN                      None   \n",
       "4       True           1.467895e+18       1467895256289099778   \n",
       "5      False                    NaN                      None   \n",
       "6      False                    NaN                      None   \n",
       "7       True                    NaN                      None   \n",
       "8       True           1.467895e+18       1467895179495370757   \n",
       "9      False                    NaN                      None   \n",
       "\n",
       "   in_reply_to_user_id in_reply_to_user_id_str  ... retweet_count  \\\n",
       "0                  NaN                    None  ...             0   \n",
       "1                  NaN                    None  ...             0   \n",
       "2         1.067160e+07                10671602  ...             0   \n",
       "3                  NaN                    None  ...             0   \n",
       "4         1.347299e+18     1347298785853059078  ...             0   \n",
       "5                  NaN                    None  ...             0   \n",
       "6                  NaN                    None  ...             0   \n",
       "7         2.115869e+07                21158690  ...             0   \n",
       "8         1.453748e+18     1453748022169403392  ...             0   \n",
       "9                  NaN                    None  ...             0   \n",
       "\n",
       "  favorite_count  \\\n",
       "0              0   \n",
       "1              0   \n",
       "2              0   \n",
       "3              0   \n",
       "4              0   \n",
       "5              0   \n",
       "6              0   \n",
       "7              0   \n",
       "8              0   \n",
       "9              0   \n",
       "\n",
       "                                                                                                                             entities  \\\n",
       "0                                                                                              ([(geoffkeighley,)], [], None, [], [])   \n",
       "1                                                                                                              ([], [], None, [], [])   \n",
       "2                                                                                                ([(PlayStation,)], [], None, [], [])   \n",
       "3                                                                                                              ([], [], None, [], [])   \n",
       "4                                 ([(TheRestockBot,)], [(PS5,)], None, [(https://twitter.com/i/web/status/1467895282289586179,)], [])   \n",
       "5                                                                                                              ([], [], None, [], [])   \n",
       "6                                                           ([(MCU_Direct,)], [(SpiderManNoWayHome,), (SpiderManPS5,)], None, [], [])   \n",
       "7                             ([(bioware,), (PlayStation,)], [], None, [(https://twitter.com/i/web/status/1467895283761745922,)], [])   \n",
       "8  ([(Brandylriggs,), (LordOfRestocks,), (PS5StocksDrops,)], [], None, [(https://twitter.com/i/web/status/1467895285749886977,)], [])   \n",
       "9                                                                                                  ([(Guerrilla,)], [], None, [], [])   \n",
       "\n",
       "  favorited  retweeted possibly_sensitive  filter_level  lang  year  \\\n",
       "0     False      False               None           low    en  2021   \n",
       "1     False      False               None           low    en  2021   \n",
       "2     False      False               None           low    en  2021   \n",
       "3     False      False               None           low    en  2021   \n",
       "4     False      False              False           low    en  2021   \n",
       "5     False      False               None           low    en  2021   \n",
       "6     False      False               None           low    en  2021   \n",
       "7     False      False              False           low    en  2021   \n",
       "8     False      False              False           low    en  2021   \n",
       "9     False      False               None           low    en  2021   \n",
       "\n",
       "           dt  \n",
       "0  2021-12-06  \n",
       "1  2021-12-06  \n",
       "2  2021-12-06  \n",
       "3  2021-12-06  \n",
       "4  2021-12-06  \n",
       "5  2021-12-06  \n",
       "6  2021-12-06  \n",
       "7  2021-12-06  \n",
       "8  2021-12-06  \n",
       "9  2021-12-06  \n",
       "\n",
       "[10 rows x 29 columns]"
      ]
     },
     "execution_count": 36,
     "metadata": {},
     "output_type": "execute_result"
    }
   ],
   "source": [
    "tweets.toPandas().head(10)"
   ]
  },
  {
   "cell_type": "markdown",
   "metadata": {},
   "source": [
    "**Total number of tweets per language**<br/>\n",
    "``` sql\n",
    "select lang,count(*) as total\n",
    "from tweets\n",
    "group by lang\n",
    "``` "
   ]
  },
  {
   "cell_type": "code",
   "execution_count": 37,
   "metadata": {},
   "outputs": [
    {
     "name": "stderr",
     "output_type": "stream",
     "text": [
      "                                                                                \r"
     ]
    },
    {
     "data": {
      "text/html": [
       "<div>\n",
       "<style scoped>\n",
       "    .dataframe tbody tr th:only-of-type {\n",
       "        vertical-align: middle;\n",
       "    }\n",
       "\n",
       "    .dataframe tbody tr th {\n",
       "        vertical-align: top;\n",
       "    }\n",
       "\n",
       "    .dataframe thead th {\n",
       "        text-align: right;\n",
       "    }\n",
       "</style>\n",
       "<table border=\"1\" class=\"dataframe\">\n",
       "  <thead>\n",
       "    <tr style=\"text-align: right;\">\n",
       "      <th></th>\n",
       "      <th>lang</th>\n",
       "      <th>total</th>\n",
       "    </tr>\n",
       "  </thead>\n",
       "  <tbody>\n",
       "    <tr>\n",
       "      <th>0</th>\n",
       "      <td>en</td>\n",
       "      <td>2754</td>\n",
       "    </tr>\n",
       "  </tbody>\n",
       "</table>\n",
       "</div>"
      ],
      "text/plain": [
       "  lang  total\n",
       "0   en   2754"
      ]
     },
     "execution_count": 37,
     "metadata": {},
     "output_type": "execute_result"
    }
   ],
   "source": [
    "from pyspark.sql.functions import *\n",
    "\n",
    "df = (tweets\n",
    "      .groupBy(\"lang\")\n",
    "      .agg(count(\"*\").alias(\"total\")))\n",
    "      \n",
    "df.toPandas()"
   ]
  },
  {
   "cell_type": "markdown",
   "metadata": {},
   "source": [
    "**Top 10 users with more tweets posted**<br/>\n",
    "``` sql\n",
    "select user.screen_name, max(user.statuses_count) tweets_posted \n",
    "from tweets\n",
    "group by user.screen_name\n",
    "order by tweets_posted desc\n",
    "limit 10\n",
    "```\n"
   ]
  },
  {
   "cell_type": "code",
   "execution_count": 38,
   "metadata": {},
   "outputs": [
    {
     "name": "stderr",
     "output_type": "stream",
     "text": [
      "                                                                                \r"
     ]
    },
    {
     "data": {
      "text/html": [
       "<div>\n",
       "<style scoped>\n",
       "    .dataframe tbody tr th:only-of-type {\n",
       "        vertical-align: middle;\n",
       "    }\n",
       "\n",
       "    .dataframe tbody tr th {\n",
       "        vertical-align: top;\n",
       "    }\n",
       "\n",
       "    .dataframe thead th {\n",
       "        text-align: right;\n",
       "    }\n",
       "</style>\n",
       "<table border=\"1\" class=\"dataframe\">\n",
       "  <thead>\n",
       "    <tr style=\"text-align: right;\">\n",
       "      <th></th>\n",
       "      <th>screen_name</th>\n",
       "      <th>tweets_posted</th>\n",
       "    </tr>\n",
       "  </thead>\n",
       "  <tbody>\n",
       "    <tr>\n",
       "      <th>0</th>\n",
       "      <td>XboxSupport</td>\n",
       "      <td>3008722</td>\n",
       "    </tr>\n",
       "    <tr>\n",
       "      <th>1</th>\n",
       "      <td>Streamer_Boost</td>\n",
       "      <td>1552900</td>\n",
       "    </tr>\n",
       "    <tr>\n",
       "      <th>2</th>\n",
       "      <td>ahl9</td>\n",
       "      <td>867132</td>\n",
       "    </tr>\n",
       "    <tr>\n",
       "      <th>3</th>\n",
       "      <td>Mayberrykush</td>\n",
       "      <td>766507</td>\n",
       "    </tr>\n",
       "    <tr>\n",
       "      <th>4</th>\n",
       "      <td>HelperStream</td>\n",
       "      <td>587067</td>\n",
       "    </tr>\n",
       "    <tr>\n",
       "      <th>5</th>\n",
       "      <td>Elfyau</td>\n",
       "      <td>470594</td>\n",
       "    </tr>\n",
       "    <tr>\n",
       "      <th>6</th>\n",
       "      <td>mellowtoo_hype</td>\n",
       "      <td>466632</td>\n",
       "    </tr>\n",
       "    <tr>\n",
       "      <th>7</th>\n",
       "      <td>ReGamertron</td>\n",
       "      <td>398012</td>\n",
       "    </tr>\n",
       "    <tr>\n",
       "      <th>8</th>\n",
       "      <td>stockexchange</td>\n",
       "      <td>380832</td>\n",
       "    </tr>\n",
       "    <tr>\n",
       "      <th>9</th>\n",
       "      <td>JoshieYoshie23</td>\n",
       "      <td>376207</td>\n",
       "    </tr>\n",
       "  </tbody>\n",
       "</table>\n",
       "</div>"
      ],
      "text/plain": [
       "      screen_name  tweets_posted\n",
       "0     XboxSupport        3008722\n",
       "1  Streamer_Boost        1552900\n",
       "2            ahl9         867132\n",
       "3    Mayberrykush         766507\n",
       "4    HelperStream         587067\n",
       "5          Elfyau         470594\n",
       "6  mellowtoo_hype         466632\n",
       "7     ReGamertron         398012\n",
       "8   stockexchange         380832\n",
       "9  JoshieYoshie23         376207"
      ]
     },
     "execution_count": 38,
     "metadata": {},
     "output_type": "execute_result"
    }
   ],
   "source": [
    "df = (tweets\n",
    "          .groupBy(\"user.screen_name\")\n",
    "          .agg(max(\"user.statuses_count\").alias(\"tweets_posted\"))\n",
    "          .orderBy(desc(\"tweets_posted\"))\n",
    "          .limit(10))\n",
    "df.toPandas()"
   ]
  },
  {
   "cell_type": "markdown",
   "metadata": {},
   "source": [
    "**Top 10 users with more followers**<br/>\n",
    "``` sql\n",
    "select user.screen_name, max(user.followers_count) follower_count \n",
    "from tweets\n",
    "group by user.screen_name\n",
    "order by followers_count desc\n",
    "limit 10\n",
    "```\n"
   ]
  },
  {
   "cell_type": "code",
   "execution_count": 39,
   "metadata": {
    "scrolled": true
   },
   "outputs": [
    {
     "name": "stderr",
     "output_type": "stream",
     "text": [
      "                                                                                \r"
     ]
    },
    {
     "data": {
      "text/html": [
       "<div>\n",
       "<style scoped>\n",
       "    .dataframe tbody tr th:only-of-type {\n",
       "        vertical-align: middle;\n",
       "    }\n",
       "\n",
       "    .dataframe tbody tr th {\n",
       "        vertical-align: top;\n",
       "    }\n",
       "\n",
       "    .dataframe thead th {\n",
       "        text-align: right;\n",
       "    }\n",
       "</style>\n",
       "<table border=\"1\" class=\"dataframe\">\n",
       "  <thead>\n",
       "    <tr style=\"text-align: right;\">\n",
       "      <th></th>\n",
       "      <th>screen_name</th>\n",
       "      <th>followers_count</th>\n",
       "    </tr>\n",
       "  </thead>\n",
       "  <tbody>\n",
       "    <tr>\n",
       "      <th>0</th>\n",
       "      <td>Behzinga</td>\n",
       "      <td>2550759</td>\n",
       "    </tr>\n",
       "    <tr>\n",
       "      <th>1</th>\n",
       "      <td>XboxSupport</td>\n",
       "      <td>1798401</td>\n",
       "    </tr>\n",
       "    <tr>\n",
       "      <th>2</th>\n",
       "      <td>EmpressElfiie</td>\n",
       "      <td>346848</td>\n",
       "    </tr>\n",
       "    <tr>\n",
       "      <th>3</th>\n",
       "      <td>jhonnycharles88</td>\n",
       "      <td>258226</td>\n",
       "    </tr>\n",
       "    <tr>\n",
       "      <th>4</th>\n",
       "      <td>ShesAtlantis</td>\n",
       "      <td>136780</td>\n",
       "    </tr>\n",
       "    <tr>\n",
       "      <th>5</th>\n",
       "      <td>GodfreyComedian</td>\n",
       "      <td>129179</td>\n",
       "    </tr>\n",
       "    <tr>\n",
       "      <th>6</th>\n",
       "      <td>Bonetti</td>\n",
       "      <td>93078</td>\n",
       "    </tr>\n",
       "    <tr>\n",
       "      <th>7</th>\n",
       "      <td>SupplyNinja</td>\n",
       "      <td>92225</td>\n",
       "    </tr>\n",
       "    <tr>\n",
       "      <th>8</th>\n",
       "      <td>linuswilson</td>\n",
       "      <td>71498</td>\n",
       "    </tr>\n",
       "    <tr>\n",
       "      <th>9</th>\n",
       "      <td>HaloGear</td>\n",
       "      <td>60606</td>\n",
       "    </tr>\n",
       "  </tbody>\n",
       "</table>\n",
       "</div>"
      ],
      "text/plain": [
       "       screen_name  followers_count\n",
       "0         Behzinga          2550759\n",
       "1      XboxSupport          1798401\n",
       "2    EmpressElfiie           346848\n",
       "3  jhonnycharles88           258226\n",
       "4     ShesAtlantis           136780\n",
       "5  GodfreyComedian           129179\n",
       "6          Bonetti            93078\n",
       "7      SupplyNinja            92225\n",
       "8      linuswilson            71498\n",
       "9         HaloGear            60606"
      ]
     },
     "execution_count": 39,
     "metadata": {},
     "output_type": "execute_result"
    }
   ],
   "source": [
    "df = (tweets\n",
    "          .groupBy(\"user.screen_name\")\n",
    "          .agg(max(\"user.followers_count\").alias(\"followers_count\"))\n",
    "          .orderBy(desc(\"followers_count\"))\n",
    "          .limit(10))\n",
    "df.toPandas()"
   ]
  },
  {
   "cell_type": "markdown",
   "metadata": {},
   "source": [
    "**Top 10 users with more mentions**<br/>\n",
    "``` sql\n",
    "select lower(user_mention) as user_mention, count(*) as mentions\n",
    "from tweets lateral view explode(entities.user_mentions.screen_name) u as user_mention\n",
    "group by lower(user_mention)\n",
    "order by mentions desc\n",
    "limit 10\n",
    "```"
   ]
  },
  {
   "cell_type": "code",
   "execution_count": 40,
   "metadata": {
    "scrolled": false
   },
   "outputs": [
    {
     "name": "stderr",
     "output_type": "stream",
     "text": [
      "                                                                                \r"
     ]
    },
    {
     "data": {
      "text/html": [
       "<div>\n",
       "<style scoped>\n",
       "    .dataframe tbody tr th:only-of-type {\n",
       "        vertical-align: middle;\n",
       "    }\n",
       "\n",
       "    .dataframe tbody tr th {\n",
       "        vertical-align: top;\n",
       "    }\n",
       "\n",
       "    .dataframe thead th {\n",
       "        text-align: right;\n",
       "    }\n",
       "</style>\n",
       "<table border=\"1\" class=\"dataframe\">\n",
       "  <thead>\n",
       "    <tr style=\"text-align: right;\">\n",
       "      <th></th>\n",
       "      <th>lower(user)</th>\n",
       "      <th>mentions</th>\n",
       "    </tr>\n",
       "  </thead>\n",
       "  <tbody>\n",
       "    <tr>\n",
       "      <th>0</th>\n",
       "      <td>mkbhd</td>\n",
       "      <td>1075</td>\n",
       "    </tr>\n",
       "    <tr>\n",
       "      <th>1</th>\n",
       "      <td>mattswider</td>\n",
       "      <td>164</td>\n",
       "    </tr>\n",
       "    <tr>\n",
       "      <th>2</th>\n",
       "      <td>mfhootswrcb</td>\n",
       "      <td>150</td>\n",
       "    </tr>\n",
       "    <tr>\n",
       "      <th>3</th>\n",
       "      <td>xbox</td>\n",
       "      <td>124</td>\n",
       "    </tr>\n",
       "    <tr>\n",
       "      <th>4</th>\n",
       "      <td>halo</td>\n",
       "      <td>120</td>\n",
       "    </tr>\n",
       "    <tr>\n",
       "      <th>5</th>\n",
       "      <td>playstation</td>\n",
       "      <td>77</td>\n",
       "    </tr>\n",
       "    <tr>\n",
       "      <th>6</th>\n",
       "      <td>cameronritz</td>\n",
       "      <td>58</td>\n",
       "    </tr>\n",
       "    <tr>\n",
       "      <th>7</th>\n",
       "      <td>jake_randall_yt</td>\n",
       "      <td>55</td>\n",
       "    </tr>\n",
       "    <tr>\n",
       "      <th>8</th>\n",
       "      <td>unrealengine</td>\n",
       "      <td>52</td>\n",
       "    </tr>\n",
       "    <tr>\n",
       "      <th>9</th>\n",
       "      <td>stevep5intel</td>\n",
       "      <td>37</td>\n",
       "    </tr>\n",
       "  </tbody>\n",
       "</table>\n",
       "</div>"
      ],
      "text/plain": [
       "       lower(user)  mentions\n",
       "0            mkbhd      1075\n",
       "1       mattswider       164\n",
       "2      mfhootswrcb       150\n",
       "3             xbox       124\n",
       "4             halo       120\n",
       "5      playstation        77\n",
       "6      cameronritz        58\n",
       "7  jake_randall_yt        55\n",
       "8     unrealengine        52\n",
       "9     stevep5intel        37"
      ]
     },
     "execution_count": 40,
     "metadata": {},
     "output_type": "execute_result"
    }
   ],
   "source": [
    "df = (tweets\n",
    "          .select(explode(\"entities.user_mentions.screen_name\").alias(\"user\"))\n",
    "          .groupBy(lower(\"user\"))\n",
    "          .agg(count(\"*\").alias(\"mentions\"))\n",
    "          .orderBy(desc(\"mentions\"))\n",
    "          .limit(10))\n",
    "df.toPandas()"
   ]
  },
  {
   "cell_type": "markdown",
   "metadata": {},
   "source": [
    "**Top 10 more popular hashtags**<br/>\n",
    "``` sql\n",
    "select lower(hashtag) as hashtag, count(*) as total\n",
    "from tweets lateral view explode(entities.hashtags.text) h as hashtag\n",
    "group by lower(hashtag)\n",
    "order by total desc\n",
    "limit 10\n",
    "```"
   ]
  },
  {
   "cell_type": "code",
   "execution_count": 41,
   "metadata": {
    "scrolled": true
   },
   "outputs": [
    {
     "name": "stderr",
     "output_type": "stream",
     "text": [
      "                                                                                \r"
     ]
    },
    {
     "data": {
      "text/html": [
       "<div>\n",
       "<style scoped>\n",
       "    .dataframe tbody tr th:only-of-type {\n",
       "        vertical-align: middle;\n",
       "    }\n",
       "\n",
       "    .dataframe tbody tr th {\n",
       "        vertical-align: top;\n",
       "    }\n",
       "\n",
       "    .dataframe thead th {\n",
       "        text-align: right;\n",
       "    }\n",
       "</style>\n",
       "<table border=\"1\" class=\"dataframe\">\n",
       "  <thead>\n",
       "    <tr style=\"text-align: right;\">\n",
       "      <th></th>\n",
       "      <th>hashtag</th>\n",
       "      <th>total</th>\n",
       "    </tr>\n",
       "  </thead>\n",
       "  <tbody>\n",
       "    <tr>\n",
       "      <th>0</th>\n",
       "      <td>HaloInfinite</td>\n",
       "      <td>192</td>\n",
       "    </tr>\n",
       "    <tr>\n",
       "      <th>1</th>\n",
       "      <td>Xbox</td>\n",
       "      <td>42</td>\n",
       "    </tr>\n",
       "    <tr>\n",
       "      <th>2</th>\n",
       "      <td>XboxSeriesX</td>\n",
       "      <td>38</td>\n",
       "    </tr>\n",
       "    <tr>\n",
       "      <th>3</th>\n",
       "      <td>SpiderManNoWayHome</td>\n",
       "      <td>33</td>\n",
       "    </tr>\n",
       "    <tr>\n",
       "      <th>4</th>\n",
       "      <td>Halo</td>\n",
       "      <td>29</td>\n",
       "    </tr>\n",
       "    <tr>\n",
       "      <th>5</th>\n",
       "      <td>PS5</td>\n",
       "      <td>25</td>\n",
       "    </tr>\n",
       "    <tr>\n",
       "      <th>6</th>\n",
       "      <td>12DaysofCreatorGiveaways</td>\n",
       "      <td>21</td>\n",
       "    </tr>\n",
       "    <tr>\n",
       "      <th>7</th>\n",
       "      <td>RT</td>\n",
       "      <td>21</td>\n",
       "    </tr>\n",
       "    <tr>\n",
       "      <th>8</th>\n",
       "      <td>XboxShare</td>\n",
       "      <td>18</td>\n",
       "    </tr>\n",
       "    <tr>\n",
       "      <th>9</th>\n",
       "      <td>ad</td>\n",
       "      <td>18</td>\n",
       "    </tr>\n",
       "  </tbody>\n",
       "</table>\n",
       "</div>"
      ],
      "text/plain": [
       "                    hashtag  total\n",
       "0              HaloInfinite    192\n",
       "1                      Xbox     42\n",
       "2               XboxSeriesX     38\n",
       "3        SpiderManNoWayHome     33\n",
       "4                      Halo     29\n",
       "5                       PS5     25\n",
       "6  12DaysofCreatorGiveaways     21\n",
       "7                        RT     21\n",
       "8                 XboxShare     18\n",
       "9                        ad     18"
      ]
     },
     "execution_count": 41,
     "metadata": {},
     "output_type": "execute_result"
    }
   ],
   "source": [
    "df = (tweets\n",
    "      .select(explode(\"entities.hashtags.text\").alias(\"hashtag\"))\n",
    "      .groupBy(\"hashtag\")\n",
    "      .agg(count(\"*\").alias(\"total\"))\n",
    "      .orderBy(desc(\"total\"))\n",
    "      .limit(10))\n",
    "      \n",
    "df.toPandas()\n",
    "\n",
    "# to normalize (upper & lower case version of the same hashtag)\n",
    "#.groupBy(lower(\"hashtag\").alias(\"hashtag\"))"
   ]
  },
  {
   "cell_type": "markdown",
   "metadata": {},
   "source": [
    "**Top 10 more popular cashtags**<br/>\n",
    "``` sql\n",
    "select lower(hashtag) as hashtag, count(*) as total\n",
    "from tweets lateral view explode(entities.symbols.text) h as hashtag\n",
    "group by lower(hashtag)\n",
    "order by total desc\n",
    "limit 10\n",
    "```"
   ]
  },
  {
   "cell_type": "code",
   "execution_count": 42,
   "metadata": {
    "scrolled": false
   },
   "outputs": [
    {
     "name": "stderr",
     "output_type": "stream",
     "text": [
      "                                                                                \r"
     ]
    },
    {
     "data": {
      "text/html": [
       "<div>\n",
       "<style scoped>\n",
       "    .dataframe tbody tr th:only-of-type {\n",
       "        vertical-align: middle;\n",
       "    }\n",
       "\n",
       "    .dataframe tbody tr th {\n",
       "        vertical-align: top;\n",
       "    }\n",
       "\n",
       "    .dataframe thead th {\n",
       "        text-align: right;\n",
       "    }\n",
       "</style>\n",
       "<table border=\"1\" class=\"dataframe\">\n",
       "  <thead>\n",
       "    <tr style=\"text-align: right;\">\n",
       "      <th></th>\n",
       "      <th>cashtag</th>\n",
       "      <th>total</th>\n",
       "    </tr>\n",
       "  </thead>\n",
       "  <tbody>\n",
       "    <tr>\n",
       "      <th>0</th>\n",
       "      <td>TG</td>\n",
       "      <td>1</td>\n",
       "    </tr>\n",
       "  </tbody>\n",
       "</table>\n",
       "</div>"
      ],
      "text/plain": [
       "  cashtag  total\n",
       "0      TG      1"
      ]
     },
     "execution_count": 42,
     "metadata": {},
     "output_type": "execute_result"
    }
   ],
   "source": [
    "df = (tweets\n",
    "    .select(explode(\"entities.symbols.text\").alias(\"cashtag\"))\n",
    "    .groupBy(upper(\"cashtag\").alias(\"cashtag\"))\n",
    "    .agg(count(\"*\").alias(\"total\"))\\\n",
    "    .orderBy(desc(\"total\"))\n",
    "    .limit(10))\n",
    "    \n",
    "df.toPandas()"
   ]
  },
  {
   "cell_type": "markdown",
   "metadata": {},
   "source": [
    "**Average number of words per tweet**<br/>\n",
    "``` sql\n",
    "select avg(size(split(text, ' '))) as avg_words\n",
    "from tweets\n",
    "```"
   ]
  },
  {
   "cell_type": "code",
   "execution_count": 43,
   "metadata": {
    "scrolled": false
   },
   "outputs": [
    {
     "data": {
      "text/html": [
       "<div>\n",
       "<style scoped>\n",
       "    .dataframe tbody tr th:only-of-type {\n",
       "        vertical-align: middle;\n",
       "    }\n",
       "\n",
       "    .dataframe tbody tr th {\n",
       "        vertical-align: top;\n",
       "    }\n",
       "\n",
       "    .dataframe thead th {\n",
       "        text-align: right;\n",
       "    }\n",
       "</style>\n",
       "<table border=\"1\" class=\"dataframe\">\n",
       "  <thead>\n",
       "    <tr style=\"text-align: right;\">\n",
       "      <th></th>\n",
       "      <th>avg_words</th>\n",
       "    </tr>\n",
       "  </thead>\n",
       "  <tbody>\n",
       "    <tr>\n",
       "      <th>0</th>\n",
       "      <td>20.434641</td>\n",
       "    </tr>\n",
       "  </tbody>\n",
       "</table>\n",
       "</div>"
      ],
      "text/plain": [
       "   avg_words\n",
       "0  20.434641"
      ]
     },
     "execution_count": 43,
     "metadata": {},
     "output_type": "execute_result"
    }
   ],
   "source": [
    "tweets.select(avg(size(split(\"text\", \" \"))).alias(\"avg_words\")).toPandas()"
   ]
  },
  {
   "cell_type": "markdown",
   "metadata": {},
   "source": [
    "**Max and average number of hashtags**<br/>\n",
    "``` sql\n",
    "select max(size(entities.hashtags)) as max,\n",
    "\t   avg(size(entities.hashtags)) as average\n",
    "from tweets\n",
    "```"
   ]
  },
  {
   "cell_type": "code",
   "execution_count": 44,
   "metadata": {
    "scrolled": false
   },
   "outputs": [
    {
     "data": {
      "text/html": [
       "<div>\n",
       "<style scoped>\n",
       "    .dataframe tbody tr th:only-of-type {\n",
       "        vertical-align: middle;\n",
       "    }\n",
       "\n",
       "    .dataframe tbody tr th {\n",
       "        vertical-align: top;\n",
       "    }\n",
       "\n",
       "    .dataframe thead th {\n",
       "        text-align: right;\n",
       "    }\n",
       "</style>\n",
       "<table border=\"1\" class=\"dataframe\">\n",
       "  <thead>\n",
       "    <tr style=\"text-align: right;\">\n",
       "      <th></th>\n",
       "      <th>max</th>\n",
       "      <th>average</th>\n",
       "    </tr>\n",
       "  </thead>\n",
       "  <tbody>\n",
       "    <tr>\n",
       "      <th>0</th>\n",
       "      <td>13</td>\n",
       "      <td>0.312273</td>\n",
       "    </tr>\n",
       "  </tbody>\n",
       "</table>\n",
       "</div>"
      ],
      "text/plain": [
       "   max   average\n",
       "0   13  0.312273"
      ]
     },
     "execution_count": 44,
     "metadata": {},
     "output_type": "execute_result"
    }
   ],
   "source": [
    "(tweets.select(\n",
    "            max(size(\"entities.hashtags\")).alias(\"max\"),\n",
    "            avg(size(\"entities.hashtags\")).alias(\"average\")\n",
    ")).toPandas()"
   ]
  },
  {
   "cell_type": "markdown",
   "metadata": {},
   "source": [
    "You have to install emojis library <br/>\n",
    "Open a terminal and execute\n",
    "```sh\n",
    "pip3 install emojis\n",
    "```"
   ]
  },
  {
   "cell_type": "markdown",
   "metadata": {},
   "source": [
    "**Top 20 more popular emojis**<br/>\n",
    "\n",
    "```sql\n",
    "select emoji, count(*) as total\n",
    "from tweets lateral view explode(get_emojis_udf(text)) e as emoji\n",
    "group by emoji\n",
    "order by total desc\n",
    "limit 20\n",
    "```"
   ]
  },
  {
   "cell_type": "code",
   "execution_count": 45,
   "metadata": {},
   "outputs": [
    {
     "name": "stderr",
     "output_type": "stream",
     "text": [
      "                                                                                \r"
     ]
    },
    {
     "data": {
      "text/html": [
       "<div>\n",
       "<style scoped>\n",
       "    .dataframe tbody tr th:only-of-type {\n",
       "        vertical-align: middle;\n",
       "    }\n",
       "\n",
       "    .dataframe tbody tr th {\n",
       "        vertical-align: top;\n",
       "    }\n",
       "\n",
       "    .dataframe thead th {\n",
       "        text-align: right;\n",
       "    }\n",
       "</style>\n",
       "<table border=\"1\" class=\"dataframe\">\n",
       "  <thead>\n",
       "    <tr style=\"text-align: right;\">\n",
       "      <th></th>\n",
       "      <th>emoji</th>\n",
       "      <th>total</th>\n",
       "    </tr>\n",
       "  </thead>\n",
       "  <tbody>\n",
       "    <tr>\n",
       "      <th>0</th>\n",
       "      <td>♾️</td>\n",
       "      <td>71</td>\n",
       "    </tr>\n",
       "    <tr>\n",
       "      <th>1</th>\n",
       "      <td>🚨</td>\n",
       "      <td>50</td>\n",
       "    </tr>\n",
       "    <tr>\n",
       "      <th>2</th>\n",
       "      <td>👇</td>\n",
       "      <td>24</td>\n",
       "    </tr>\n",
       "    <tr>\n",
       "      <th>3</th>\n",
       "      <td>➡️</td>\n",
       "      <td>20</td>\n",
       "    </tr>\n",
       "    <tr>\n",
       "      <th>4</th>\n",
       "      <td>♻️</td>\n",
       "      <td>19</td>\n",
       "    </tr>\n",
       "    <tr>\n",
       "      <th>5</th>\n",
       "      <td>😂</td>\n",
       "      <td>14</td>\n",
       "    </tr>\n",
       "    <tr>\n",
       "      <th>6</th>\n",
       "      <td>🎁</td>\n",
       "      <td>12</td>\n",
       "    </tr>\n",
       "    <tr>\n",
       "      <th>7</th>\n",
       "      <td>🙌</td>\n",
       "      <td>11</td>\n",
       "    </tr>\n",
       "    <tr>\n",
       "      <th>8</th>\n",
       "      <td>😎</td>\n",
       "      <td>11</td>\n",
       "    </tr>\n",
       "    <tr>\n",
       "      <th>9</th>\n",
       "      <td>🚀</td>\n",
       "      <td>10</td>\n",
       "    </tr>\n",
       "    <tr>\n",
       "      <th>10</th>\n",
       "      <td>🔥</td>\n",
       "      <td>10</td>\n",
       "    </tr>\n",
       "    <tr>\n",
       "      <th>11</th>\n",
       "      <td>🟡</td>\n",
       "      <td>9</td>\n",
       "    </tr>\n",
       "    <tr>\n",
       "      <th>12</th>\n",
       "      <td>👀</td>\n",
       "      <td>9</td>\n",
       "    </tr>\n",
       "    <tr>\n",
       "      <th>13</th>\n",
       "      <td>💚</td>\n",
       "      <td>9</td>\n",
       "    </tr>\n",
       "    <tr>\n",
       "      <th>14</th>\n",
       "      <td>😭</td>\n",
       "      <td>8</td>\n",
       "    </tr>\n",
       "    <tr>\n",
       "      <th>15</th>\n",
       "      <td>✅</td>\n",
       "      <td>7</td>\n",
       "    </tr>\n",
       "    <tr>\n",
       "      <th>16</th>\n",
       "      <td>🎄</td>\n",
       "      <td>7</td>\n",
       "    </tr>\n",
       "    <tr>\n",
       "      <th>17</th>\n",
       "      <td>🍩</td>\n",
       "      <td>6</td>\n",
       "    </tr>\n",
       "    <tr>\n",
       "      <th>18</th>\n",
       "      <td>🎮</td>\n",
       "      <td>6</td>\n",
       "    </tr>\n",
       "    <tr>\n",
       "      <th>19</th>\n",
       "      <td>😍</td>\n",
       "      <td>5</td>\n",
       "    </tr>\n",
       "  </tbody>\n",
       "</table>\n",
       "</div>"
      ],
      "text/plain": [
       "   emoji  total\n",
       "0     ♾️     71\n",
       "1      🚨     50\n",
       "2      👇     24\n",
       "3     ➡️     20\n",
       "4     ♻️     19\n",
       "5      😂     14\n",
       "6      🎁     12\n",
       "7      🙌     11\n",
       "8      😎     11\n",
       "9      🚀     10\n",
       "10     🔥     10\n",
       "11     🟡      9\n",
       "12     👀      9\n",
       "13     💚      9\n",
       "14     😭      8\n",
       "15     ✅      7\n",
       "16     🎄      7\n",
       "17     🍩      6\n",
       "18     🎮      6\n",
       "19     😍      5"
      ]
     },
     "execution_count": 45,
     "metadata": {},
     "output_type": "execute_result"
    }
   ],
   "source": [
    "from pyspark.sql.functions import udf\n",
    "\n",
    "import emojis\n",
    "\n",
    "@udf(\"array<string>\")\n",
    "def get_emojis_udf(s):\n",
    "    set = emojis.get(s)\n",
    "    return [*set, ]\n",
    "\n",
    "tweets.select(explode(get_emojis_udf(\"text\")).alias(\"emoji\"))\\\n",
    "      .groupBy(\"emoji\").agg(count(\"*\").alias(\"total\")).orderBy(desc(\"total\")).limit(20)\\\n",
    "      .toPandas()"
   ]
  },
  {
   "cell_type": "markdown",
   "metadata": {},
   "source": [
    "<a id='3'></a>\n",
    "## 3. Tear Down\n",
    "\n",
    "Once we complete the the lab we can stop all the services"
   ]
  },
  {
   "cell_type": "markdown",
   "metadata": {},
   "source": [
    "<a id='3.1'></a>\n",
    "### 3.1 Stop Hadoop\n",
    "\n",
    "Stop Hadoop\n",
    "\n",
    "Open a terminal and execute\n",
    "```sh\n",
    "hadoop-stop.sh\n",
    "```"
   ]
  }
 ],
 "metadata": {
  "kernelspec": {
   "display_name": "Python 3 (ipykernel)",
   "language": "python",
   "name": "python3"
  },
  "language_info": {
   "codemirror_mode": {
    "name": "ipython",
    "version": 3
   },
   "file_extension": ".py",
   "mimetype": "text/x-python",
   "name": "python",
   "nbconvert_exporter": "python",
   "pygments_lexer": "ipython3",
   "version": "3.7.3"
  }
 },
 "nbformat": 4,
 "nbformat_minor": 4
}
